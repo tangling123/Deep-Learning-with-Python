{
 "cells": [
  {
   "cell_type": "code",
   "execution_count": 12,
   "id": "e1198e42",
   "metadata": {},
   "outputs": [],
   "source": [
    "#加载带有预训练权重的VGG16网络\n",
    "from tensorflow.keras.applications.vgg16 import VGG16 \n",
    "\n",
    "model = VGG16(weights = 'imagenet')"
   ]
  },
  {
   "cell_type": "code",
   "execution_count": 13,
   "id": "6f8cc057",
   "metadata": {},
   "outputs": [],
   "source": [
    "#为VGG16网络模型预处理一章输入图像\n",
    "\n",
    "from keras.preprocessing import image\n",
    "from tensorflow.keras.applications.vgg16 import preprocess_input, decode_predictions\n",
    "import numpy as np\n",
    " \n",
    "img_path = 'C:\\\\Users\\\\hp-pc\\\\ML\\\\cat_100.jpg' \n",
    "#图像的本地路径\n",
    "img = image.load_img(img_path, target_size = (224, 224))  #读取图像并调整大小\n",
    "\n",
    "x = image.img_to_array(img) #将img图像转换为numpy数组 (224, 224, 3)\n",
    "x = np.expand_dims(x, axis = 0) #将x转换为(1, 224, 224, 3)的数组\n",
    "x = preprocess_input(x) #预处理输入"
   ]
  },
  {
   "cell_type": "code",
   "execution_count": 14,
   "id": "2901db9f",
   "metadata": {},
   "outputs": [
    {
     "name": "stdout",
     "output_type": "stream",
     "text": [
      "Predicted: [[('n03958227', 'plastic_bag', 0.24324383), ('n02123045', 'tabby', 0.22490391), ('n02124075', 'Egyptian_cat', 0.0793175), ('n02123159', 'tiger_cat', 0.06541321), ('n02123394', 'Persian_cat', 0.039460253)]]\n"
     ]
    },
    {
     "name": "stderr",
     "output_type": "stream",
     "text": [
      "C:\\Users\\hp-pc\\anaconda3\\lib\\site-packages\\keras\\engine\\training_v1.py:2079: UserWarning: `Model.state_updates` will be removed in a future version. This property should not be used in TensorFlow 2.0, as `updates` are applied automatically.\n",
      "  updates=self.state_updates,\n"
     ]
    }
   ],
   "source": [
    "#在图像上运行预训练的VGG16网络，并且将预测向量解码为可读的模式\n",
    "preds = model.predict(x)\n",
    "\n",
    "print('Predicted:', decode_predictions(preds))"
   ]
  },
  {
   "cell_type": "code",
   "execution_count": 15,
   "id": "771d23a1",
   "metadata": {},
   "outputs": [
    {
     "data": {
      "text/plain": [
       "728"
      ]
     },
     "execution_count": 15,
     "metadata": {},
     "output_type": "execute_result"
    }
   ],
   "source": [
    "np.argmax(preds)"
   ]
  },
  {
   "cell_type": "code",
   "execution_count": 16,
   "id": "eb4fc9ff",
   "metadata": {},
   "outputs": [],
   "source": [
    "#应用Grad_CAM算法\n",
    "import tensorflow as tf\n",
    "tf.compat.v1.disable_eager_execution() \n",
    "from tensorflow.keras import backend as K\n",
    "\n",
    "african_elephant_output = model.output[: 728] \n",
    "\n",
    "last_conv_layer = model.get_layer('block5_conv3') \n",
    "\n",
    "grads = K.gradients(african_elephant_output, last_conv_layer.output)[0] \n",
    "\n",
    "pooled_grads = K.mean(grads, axis = (0, 1, 2)) \n",
    "\n",
    "iterate = K.function([model.input], [pooled_grads, last_conv_layer.output[0]])\n",
    "\n",
    "\n",
    "pooled_grads_value, conv_layer_output_value = iterate([x]) \n",
    "l = len(conv_layer_output_value)\n",
    "\n",
    "for i in range(512):\n",
    "    conv_layer_output_value[:, :, i] *= pooled_grads_value[i]\n",
    "    \n",
    "heatmap = np.mean(conv_layer_output_value, axis = -1)"
   ]
  },
  {
   "cell_type": "code",
   "execution_count": 17,
   "id": "64c94b1a",
   "metadata": {},
   "outputs": [
    {
     "data": {
      "text/plain": [
       "<matplotlib.image.AxesImage at 0x20d5e5a84c0>"
      ]
     },
     "execution_count": 17,
     "metadata": {},
     "output_type": "execute_result"
    },
    {
     "data": {
      "image/png": "[encoded data removed]",
      "text/plain": [
       "<Figure size 288x288 with 1 Axes>"
      ]
     },
     "metadata": {
      "needs_background": "light"
     },
     "output_type": "display_data"
    }
   ],
   "source": [
    "#热力图后处理\n",
    "import matplotlib.pyplot as plt\n",
    "\n",
    "heatmap = np.maximum(heatmap, 0)\n",
    "heatmap /= np.max(heatmap)\n",
    "plt.matshow(heatmap)"
   ]
  },
  {
   "cell_type": "code",
   "execution_count": 19,
   "id": "c06bbaa3",
   "metadata": {},
   "outputs": [
    {
     "data": {
      "text/plain": [
       "True"
      ]
     },
     "execution_count": 19,
     "metadata": {},
     "output_type": "execute_result"
    }
   ],
   "source": [
    "import cv2\n",
    "\n",
    "img = cv2.imread(img_path)\n",
    "\n",
    "heatmap = cv2.resize(heatmap, (img.shape[1], img.shape[0]))\n",
    "\n",
    "heatmap = np.uint8(255 * heatmap)\n",
    "heatmap = cv2.applyColorMap(heatmap, cv2.COLORMAP_JET)\n",
    "\n",
    "superimposed_img = heatmap * 0.4 + img\n",
    "\n",
    "cv2.imwrite('C:\\\\Users\\\\hp-pc\\\\ML\\\\cat_cam.jpg' , superimposed_img)"
   ]
  },
  {
   "cell_type": "code",
   "execution_count": null,
   "id": "8a2c6c82",
   "metadata": {},
   "outputs": [],
   "source": []
  }
 ],
 "metadata": {
  "kernelspec": {
   "display_name": "Python 3",
   "language": "python",
   "name": "python3"
  },
  "language_info": {
   "codemirror_mode": {
    "name": "ipython",
    "version": 3
   },
   "file_extension": ".py",
   "mimetype": "text/x-python",
   "name": "python",
   "nbconvert_exporter": "python",
   "pygments_lexer": "ipython3",
   "version": "3.8.8"
  }
 },
 "nbformat": 4,
 "nbformat_minor": 5
}
