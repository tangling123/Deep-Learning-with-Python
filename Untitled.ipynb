{
 "cells": [
  {
   "cell_type": "code",
   "execution_count": 8,
   "id": "122b0604",
   "metadata": {},
   "outputs": [
    {
     "name": "stdout",
     "output_type": "stream",
     "text": [
      "Epoch 1/5\n",
      "938/938 [==============================] - 18s 19ms/step - loss: 0.1507 - accuracy: 0.9522\n",
      "Epoch 2/5\n",
      "938/938 [==============================] - 18s 19ms/step - loss: 0.0443 - accuracy: 0.9866\n",
      "Epoch 3/5\n",
      "938/938 [==============================] - 17s 18ms/step - loss: 0.0316 - accuracy: 0.9903\n",
      "Epoch 4/5\n",
      "938/938 [==============================] - 17s 19ms/step - loss: 0.0238 - accuracy: 0.9928\n",
      "Epoch 5/5\n",
      "938/938 [==============================] - 18s 19ms/step - loss: 0.0184 - accuracy: 0.9948\n",
      "1875/1875 [==============================] - 4s 2ms/step - loss: 0.0115 - accuracy: 0.9964\n",
      "0.01152793038636446\n",
      "0.996399998664856\n"
     ]
    }
   ],
   "source": [
    "#1、从keras中加载数据集\n",
    "from keras.datasets import mnist \n",
    "\n",
    "(train_data, train_labels), (test_data, test_labels) = mnist.load_data()\n",
    "\n",
    "#2、数据的预处理\n",
    "train_data = train_data.reshape((60000, 28, 28, 1))\n",
    "train_data = train_data.astype('float32') / 255\n",
    "\n",
    "test_data = test_data.reshape((10000, 28, 28, 1))\n",
    "test_data = test_data.astype('float32')/ 255\n",
    "\n",
    "#3、标签的预处理\n",
    "from tensorflow.keras.utils import to_categorical\n",
    "\n",
    "train_labels = to_categorical(train_labels)\n",
    "test_labels = to_categorical(test_labels)\n",
    "\n",
    "#4、构建卷积神经网络\n",
    "from keras import models, layers\n",
    "\n",
    "network = models.Sequential()\n",
    "network.add(layers.Conv2D(32, (3, 3), activation = 'relu', input_shape = (28, 28, 1)))\n",
    "network.add(layers.MaxPooling2D((2, 2)))\n",
    "network.add(layers.Conv2D(64, (3, 3), activation = 'relu'))\n",
    "network.add(layers.MaxPooling2D(2,2))\n",
    "network.add(layers.Conv2D(64, (3, 3), activation = 'relu'))\n",
    "\n",
    "#5、在网络后面连接全连接层\n",
    "network.add(layers.Flatten())\n",
    "network.add(layers.Dense(512, activation = 'relu'))\n",
    "network.add(layers.Dense(10, activation = 'softmax'))\n",
    "\n",
    "#6、编译网络\n",
    "network.compile(optimizer = 'rmsprop',\n",
    "                loss = 'categorical_crossentropy',\n",
    "                metrics = ['accuracy'])\n",
    "\n",
    "#7、训练网络\n",
    "network.fit(train_data, train_labels, epochs = 5, batch_size = 64)\n",
    "\n",
    "#8、在验证集上评估网络\n",
    "test_loss, test_acc = network.evaluate(train_data, train_labels)\n",
    "print(test_loss)\n",
    "print(test_acc)"
   ]
  },
  {
   "cell_type": "code",
   "execution_count": 9,
   "id": "89935d87",
   "metadata": {},
   "outputs": [],
   "source": [
    "from tensorflow.keras.preprocessing.image import ImageDataGenerator\n",
    "\n",
    "?ImageDataGenerator"
   ]
  },
  {
   "cell_type": "code",
   "execution_count": null,
   "id": "6a98f241",
   "metadata": {},
   "outputs": [],
   "source": []
  }
 ],
 "metadata": {
  "kernelspec": {
   "display_name": "Python 3",
   "language": "python",
   "name": "python3"
  },
  "language_info": {
   "codemirror_mode": {
    "name": "ipython",
    "version": 3
   },
   "file_extension": ".py",
   "mimetype": "text/x-python",
   "name": "python",
   "nbconvert_exporter": "python",
   "pygments_lexer": "ipython3",
   "version": "3.8.8"
  }
 },
 "nbformat": 4,
 "nbformat_minor": 5
}
