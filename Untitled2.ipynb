{
 "cells": [
  {
   "cell_type": "code",
   "execution_count": 1,
   "id": "6d755b6a",
   "metadata": {},
   "outputs": [],
   "source": [
    "from numpy.random import choice\n",
    "\n",
    "samples = choice(['R', 'G', 'B'], size = 100, p = [0.2, 0.5, 0.3])"
   ]
  },
  {
   "cell_type": "code",
   "execution_count": 2,
   "id": "e2035f72",
   "metadata": {},
   "outputs": [
    {
     "name": "stdout",
     "output_type": "stream",
     "text": [
      "['B' 'R' 'B' 'R' 'G' 'G' 'G' 'R' 'B' 'R' 'G' 'G' 'G' 'G' 'G' 'B' 'R' 'G'\n",
      " 'B' 'R' 'G' 'G' 'G' 'G' 'G' 'G' 'G' 'R' 'G' 'G' 'G' 'G' 'G' 'G' 'G' 'B'\n",
      " 'G' 'G' 'R' 'G' 'G' 'B' 'B' 'G' 'B' 'G' 'B' 'R' 'G' 'B' 'G' 'G' 'G' 'G'\n",
      " 'G' 'G' 'G' 'B' 'R' 'G' 'B' 'G' 'R' 'G' 'G' 'B' 'R' 'G' 'G' 'R' 'B' 'G'\n",
      " 'G' 'G' 'G' 'G' 'R' 'B' 'B' 'G' 'B' 'B' 'G' 'B' 'G' 'G' 'B' 'R' 'R' 'G'\n",
      " 'R' 'G' 'G' 'R' 'G' 'G' 'B' 'B' 'G' 'G']\n"
     ]
    }
   ],
   "source": [
    "print(samples)"
   ]
  },
  {
   "cell_type": "code",
   "execution_count": 5,
   "id": "5a47b263",
   "metadata": {},
   "outputs": [
    {
     "name": "stdout",
     "output_type": "stream",
     "text": [
      "18 59 23\n"
     ]
    }
   ],
   "source": [
    "i = 0\n",
    "j = 0\n",
    "k = 0\n",
    "for sample in samples:\n",
    "    if (sample == 'R'):\n",
    "        i += 1\n",
    "    elif (sample == 'G'):\n",
    "        j += 1\n",
    "    else:\n",
    "        k += 1\n",
    "        \n",
    "print(i, j, k)"
   ]
  },
  {
   "cell_type": "code",
   "execution_count": null,
   "id": "46f65315",
   "metadata": {},
   "outputs": [],
   "source": []
  }
 ],
 "metadata": {
  "kernelspec": {
   "display_name": "Python 3",
   "language": "python",
   "name": "python3"
  },
  "language_info": {
   "codemirror_mode": {
    "name": "ipython",
    "version": 3
   },
   "file_extension": ".py",
   "mimetype": "text/x-python",
   "name": "python",
   "nbconvert_exporter": "python",
   "pygments_lexer": "ipython3",
   "version": "3.8.8"
  }
 },
 "nbformat": 4,
 "nbformat_minor": 5
}
