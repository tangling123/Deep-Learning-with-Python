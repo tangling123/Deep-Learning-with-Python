{
 "cells": [
  {
   "cell_type": "code",
   "execution_count": 1,
   "id": "e19f0f3a",
   "metadata": {},
   "outputs": [],
   "source": [
    "import os\n",
    "os.environ[\"KMP_DUPLICATE_LIB_OK\"]  =  \"TRUE\""
   ]
  },
  {
   "cell_type": "code",
   "execution_count": 2,
   "id": "7ad84d32",
   "metadata": {},
   "outputs": [
    {
     "name": "stdout",
     "output_type": "stream",
     "text": [
      "Predicted: [[('n02123045', 'tabby', 0.4977424), ('n02123159', 'tiger_cat', 0.26360708), ('n02124075', 'Egyptian_cat', 0.20494941), ('n02127052', 'lynx', 0.01151261), ('n02971356', 'carton', 0.006723718)]]\n",
      "281\n"
     ]
    }
   ],
   "source": [
    "#加载带有预训练权重的VGG16网络\n",
    "from tensorflow.keras.applications.vgg16 import VGG16\n",
    "\n",
    "model = VGG16(weights = 'imagenet')#将热力图和原始图像叠加\n",
    "\n",
    "\n",
    "#为VGG16模型预处理一张输入图像\n",
    "\n",
    "import numpy as np\n",
    "from tensorflow.keras.preprocessing import image\n",
    "from tensorflow.keras.applications.vgg16 import preprocess_input, decode_predictions\n",
    "\n",
    "#目标图像的本地路径\n",
    "img_path = 'C:\\\\Users\\\\hp-pc\\\\ML\\\\cat.jpg'\n",
    "\n",
    "img = image.load_img(img_path, target_size = (224, 224)) #读取图像，并将图像调整为(224, 224)的大小，适合VGG16的输入\n",
    "\n",
    "x = image.img_to_array(img) #将其形状转换为(224, 224, 3)的Numpy数组\n",
    "\n",
    "x = np.expand_dims(x, axis = 0) #添加一个维度，将x的形状变为(1, 224, 224, 3)的4D张量\n",
    "\n",
    "x = preprocess_input(x)\n",
    "\n",
    "preds = model.predict(x) #对x进行预测，得到的是一个(1, 1000)的列表\n",
    "\n",
    "print('Predicted:', decode_predictions(preds))\n",
    "\n",
    "print(np.argmax(preds[0]))"
   ]
  },
  {
   "cell_type": "code",
   "execution_count": null,
   "id": "b6f3cfec",
   "metadata": {},
   "outputs": [],
   "source": [
    "#应用Grad_CAM算法\n",
    "from tensorflow.keras.applications import VGG16\n",
    "from tensorflow.keras import backend as K\n",
    "import tensorflow as tf\n",
    "tf.compat.v1.disable_eager_execution() \n",
    "\n",
    "cat_elephant_output = model.output[: 281] #预测向量中的非洲象元素\n",
    "\n",
    "last_conv_layer = model.get_layer('block5_conv3') #bolck5_conv3层的输出特征图，它是VGG16的最后一个卷积层\n",
    "\n",
    "grads = K.gradients(cat_elephant_output, last_conv_layer.output)[0] #非洲象类别对应于block5_conv3输出特征图的梯度\n",
    "#相当于afircan_elephant_output对last_conv_layer.output进行求导，返回的是一个张量列表，只保留第一个元素\n",
    "\n",
    "pooled_grads = K.mean(grads, axis = (0, 1, 2)) #形状为(512, )的向量，每个元素是特定特征图通道的梯度平均大小\n",
    "#输入是(14, 14, 512)的3D张量，采用全局平均池化层GAP，使用一个平均值来代替这个channel中14*14的矩阵\n",
    "\n",
    "iterate = K.function([model.input], [pooled_grads, last_conv_layer.output[0]])\n",
    "# K.function([模型的输入], [模型的输出])\n",
    "#访问刚刚定义的量：对于给定的样本图像，pooled_grads和block5_conv3层的输出特征图\n",
    "\n",
    "pooled_grads_value, conv_layer_output_value = iterate(x) #对于两个大象的样本图像，这两个量都是Numpy数组\n",
    "\n",
    "for i in range(512):\n",
    "    conv_layer_output_value[:, :, i] *= pooled_grads_value[i]\n",
    "    #将特征图的每个通道乘以“这个通道对‘大象’的重要程度”\n",
    "    \n",
    "heatmap = np.mean(conv_layer_output_value, axis = -1)\n",
    "#得到的特征图的逐通道平均值即为类激活的热力图\n",
    "\n",
    "#热力图后处理\n",
    "import matplotlib.pyplot as plt\n",
    "\n",
    "heatmap = np.maximum(heatmap, 0)\n",
    "heatmap /= np.max(heatmap)\n",
    "plt.matshow(heatmap)"
   ]
  },
  {
   "cell_type": "code",
   "execution_count": null,
   "id": "f92f470b",
   "metadata": {},
   "outputs": [],
   "source": [
    "#将热力图和原始图像叠加\n",
    "\n",
    "import cv2\n",
    "\n",
    "img = cv2.imread(img_path) #用cv2加载原始图像\n",
    "\n",
    "heatmap = cv2.resize(heatmap, (img.shape[1], img.shape[0])) #将热力图大小调整为与原始图像相同\n",
    "\n",
    "heatmap = np.uint8(255 * heatmap) #将热力图转换为RGB格式\n",
    "\n",
    "heatmap = cv2.applyColorMap(heatmap, cv2.COLORMAP_JET) #将热力图应用于原始图像\n",
    "\n",
    "superimposed_img = heatmap * 0.4 + img \n",
    "\n",
    "cv2.imwrite('C:\\\\Users\\\\hp-pc\\\\cat_cam.jpg', superimposed_img) \n",
    "#将图像保存到硬盘"
   ]
  },
  {
   "cell_type": "code",
   "execution_count": null,
   "id": "c4a9718a",
   "metadata": {},
   "outputs": [],
   "source": []
  }
 ],
 "metadata": {
  "kernelspec": {
   "display_name": "Python 3",
   "language": "python",
   "name": "python3"
  },
  "language_info": {
   "codemirror_mode": {
    "name": "ipython",
    "version": 3
   },
   "file_extension": ".py",
   "mimetype": "text/x-python",
   "name": "python",
   "nbconvert_exporter": "python",
   "pygments_lexer": "ipython3",
   "version": "3.8.8"
  }
 },
 "nbformat": 4,
 "nbformat_minor": 5
}
