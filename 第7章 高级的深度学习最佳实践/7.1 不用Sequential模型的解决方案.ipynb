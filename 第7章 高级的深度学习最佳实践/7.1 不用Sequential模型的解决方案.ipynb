{
 "cells": [
  {
   "cell_type": "markdown",
   "id": "175686cc",
   "metadata": {},
   "source": [
    "本章包括以下内容：\n",
    "* Keras函数式API\n",
    "* 使用Keras回调函数\n",
    "* 使用TensorBoard可视化工具\n",
    "* 开发最先进模型的重要最佳实践"
   ]
  },
  {
   "cell_type": "markdown",
   "id": "fecdb9bb",
   "metadata": {},
   "source": [
    "# 7.1 不用Sequential模型的解决方案\n"
   ]
  },
  {
   "cell_type": "code",
   "execution_count": 1,
   "id": "ebefdd27",
   "metadata": {},
   "outputs": [
    {
     "name": "stdout",
     "output_type": "stream",
     "text": [
      "Model: \"sequential\"\n",
      "_________________________________________________________________\n",
      " Layer (type)                Output Shape              Param #   \n",
      "=================================================================\n",
      " dense_1 (Dense)             (None, 32)                2080      \n",
      "                                                                 \n",
      " dense_2 (Dense)             (None, 32)                1056      \n",
      "                                                                 \n",
      " dense_3 (Dense)             (None, 10)                330       \n",
      "                                                                 \n",
      "=================================================================\n",
      "Total params: 3,466\n",
      "Trainable params: 3,466\n",
      "Non-trainable params: 0\n",
      "_________________________________________________________________\n",
      "Model: \"model\"\n",
      "_________________________________________________________________\n",
      " Layer (type)                Output Shape              Param #   \n",
      "=================================================================\n",
      " input_2 (InputLayer)        [(None, 64)]              0         \n",
      "                                                                 \n",
      " dense_4 (Dense)             (None, 32)                2080      \n",
      "                                                                 \n",
      " dense_5 (Dense)             (None, 32)                1056      \n",
      "                                                                 \n",
      " dense_6 (Dense)             (None, 10)                330       \n",
      "                                                                 \n",
      "=================================================================\n",
      "Total params: 3,466\n",
      "Trainable params: 3,466\n",
      "Non-trainable params: 0\n",
      "_________________________________________________________________\n"
     ]
    }
   ],
   "source": [
    "from keras import Input, layers\n",
    "\n",
    "input_tensor = Input(shape=(30, ))  #一个张量\n",
    "dense = layers.Dense(32, activation='relu') #一个层是一个函数\n",
    "output_tensor = dense(input_tensor) #可以在一个张量上调用一个层它会返回一个张量\n",
    "\n",
    "#一个简单的Sequenrial模型和对应的函数式API实现\n",
    "from keras import Sequential, Model\n",
    "from keras.layers import Dense\n",
    "\n",
    "seq_model = Sequential()\n",
    "seq_model.add(Dense(32, activation='relu', input_shape = (64, )))\n",
    "seq_model.add(Dense(32, activation='relu'))\n",
    "seq_model.add(Dense(10, activation='softmax'))\n",
    "\n",
    "seq_model.summary()\n",
    "\n",
    "input_tensor = Input(shape=(64, ))\n",
    "x = Dense(32, activation='relu')(input_tensor)\n",
    "x = Dense(32, activation='relu')(x)\n",
    "output_tensor = Dense(10, activation='softmax')(x)\n",
    "\n",
    "model = Model(input_tensor, output_tensor)\n",
    "model.summary()"
   ]
  },
  {
   "cell_type": "markdown",
   "id": "d0ed184a",
   "metadata": {},
   "source": [
    "unrelated_input = Input(shape = (32, ))\n",
    "bad_model = Model(unrelated_input, output_tensor)\n",
    "如果试图将不相关的输入和输出来构建一个模型，那么会得到ValueError"
   ]
  }
 ],
 "metadata": {
  "kernelspec": {
   "display_name": "Python 3",
   "language": "python",
   "name": "python3"
  },
  "language_info": {
   "codemirror_mode": {
    "name": "ipython",
    "version": 3
   },
   "file_extension": ".py",
   "mimetype": "text/x-python",
   "name": "python",
   "nbconvert_exporter": "python",
   "pygments_lexer": "ipython3",
   "version": "3.8.8"
  }
 },
 "nbformat": 4,
 "nbformat_minor": 5
}
