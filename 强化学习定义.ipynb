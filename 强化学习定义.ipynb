{
 "cells": [
  {
   "cell_type": "markdown",
   "id": "3c2a7e83",
   "metadata": {},
   "source": [
    "# 强化学习定义\n",
    "\n",
    "在强化学习中，有两个可以交互的对象：**智能体(agent)** 和 **环境(environment)**\n",
    "（1）智能体(agent)可以感知外界环境(environment)的状态(state)和反馈的奖励(reward)，并进行学习和决策。智能体的决策功能是指根据外界环境的状态来做出不同的动作(action)，而学习功能是根据外界环境的奖励来调整策略。  \n",
    "（2）\t环境(environment)是智能体外部的所有事物，并受智能体动作的影响而改变其状态，并反馈给智能体相应的奖励。  \n",
    "\n",
    "## 强化学习的基本要素包括：\n",
    "（1）状态s是对环境的描述，可以是连续的也可以是离散的，其状态空间是S  \n",
    "（2）动作a是对智能体行为的描述，可以使连续的也可以是离散的，其状态空间是A  \n",
    "（3）策略π(a | s)是智能体根据环境s来决定下一步动作a的函数  \n",
    "（4）状态转移概率p(s's, a)，是智能体在当前状态s做出一个动作a之后，环境在下一个时刻转变为状态s'的概率  \n",
    "（5）即时奖励r(s, a, s')是一个标量函数，即智能体根据当前状态s做出动作a之后，环境会给智能体一个奖励，这个奖励也经常和下一个时刻的状态s'有关。 \n",
    "\n",
    "**策略**：智能体的策略(policy)就是智能体如何根据环境状态s来决定下一步的动作a"
   ]
  }
 ],
 "metadata": {
  "kernelspec": {
   "display_name": "Python 3",
   "language": "python",
   "name": "python3"
  },
  "language_info": {
   "codemirror_mode": {
    "name": "ipython",
    "version": 3
   },
   "file_extension": ".py",
   "mimetype": "text/x-python",
   "name": "python",
   "nbconvert_exporter": "python",
   "pygments_lexer": "ipython3",
   "version": "3.8.8"
  }
 },
 "nbformat": 4,
 "nbformat_minor": 5
}
