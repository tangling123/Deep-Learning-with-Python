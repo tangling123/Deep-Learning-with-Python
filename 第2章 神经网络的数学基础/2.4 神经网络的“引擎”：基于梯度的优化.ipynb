{
 "cells": [
  {
   "cell_type": "markdown",
   "id": "3d59b77f",
   "metadata": {},
   "source": [
    "每个神经层都用下述方法对输入数据进行变换  \n",
    "output = relu(dot(W, input) + b)\n",
    "W、b都是张量，是该层的属性(Weight, bias对应该层的权重和误差)  \n",
    "\n",
    "  \n",
    "一开始，这些权重矩阵取较小的随机值，这一步叫随机初始化   \n",
    "下一步根据反馈信号逐渐调节这些权重，这个逐渐调节的过程叫训练(机器学习的学习)\n",
    "  \n",
    "训练循环：  \n",
    "(1)抽取训练样本x和对应目标y组成的数据批量  \n",
    "(2)在x上运行网络(这一步叫前向传播)，得到预测值y_pred  \n",
    "(3)计算网络在这批数据上的损失，用于衡量y_pred和y之间的距离  \n",
    "(4)更新网络的所有权重，使网络在这批数据上的损失略微下降\n",
    "\n",
    "最终得到的网络在训练数据上的损失非常小，即预测值y_pred和y之间的距离非常小  \n",
    "\n",
    "  \n",
    " 更新网络中的参，一种好的方法是利用网络中所有运算都是可微的  \n",
    " 计算损失相对于网络洗漱中的梯度，然后向梯度的反方向更新参数，从而使损失降低"
   ]
  },
  {
   "cell_type": "markdown",
   "id": "cd85fd0c",
   "metadata": {},
   "source": [
    "## 随机梯度下降(SGD, Stochastic Gradient Descent)：\n",
    "随机：每批数据都是随机抽取的\n",
    "\n",
    "训练循环：  \n",
    "(1)抽取训练样本x和对应目标y组成的数据批量  \n",
    "(2)在x上运行网络(这一步叫前向传播)，得到预测值y_pred  \n",
    "(3)计算网络在这批数据上的损失，用于衡量y_pred和y之间的距离  \n",
    "(4)计算损失相对于网络参数的梯度(一次反向传播)\n",
    "(5)将参数沿着梯度的反方向移动一点，比如W -= step * gradient，从而使这批数据上的损失减小一点"
   ]
  },
  {
   "cell_type": "markdown",
   "id": "b3df15ef",
   "metadata": {},
   "source": [
    "带动量的随机梯度下降:  \n",
    "在计算下一次权重更新时，还要考虑上一次的权重更新"
   ]
  },
  {
   "cell_type": "code",
   "execution_count": null,
   "id": "e11eae6d",
   "metadata": {},
   "outputs": [],
   "source": [
    "past_velocity = 0\n",
    "momentum = 0.1\n",
    "while loss > 0.01:\n",
    "    W, loss, gradient = get_current_paramters()\n",
    "    velocity = past_velocity * mometum - learning_rate * gradient\n",
    "    past_velocity = velocity\n",
    "    upgradr_paramter(W)"
   ]
  }
 ],
 "metadata": {
  "kernelspec": {
   "display_name": "Python 3 (ipykernel)",
   "language": "python",
   "name": "python3"
  },
  "language_info": {
   "codemirror_mode": {
    "name": "ipython",
    "version": 3
   },
   "file_extension": ".py",
   "mimetype": "text/x-python",
   "name": "python",
   "nbconvert_exporter": "python",
   "pygments_lexer": "ipython3",
   "version": "3.9.7"
  }
 },
 "nbformat": 4,
 "nbformat_minor": 5
}
