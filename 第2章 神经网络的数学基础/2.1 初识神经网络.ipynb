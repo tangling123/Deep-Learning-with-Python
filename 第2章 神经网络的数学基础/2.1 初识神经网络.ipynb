{
 "cells": [
  {
   "cell_type": "markdown",
   "id": "a093eb08",
   "metadata": {},
   "source": [
    "## 1、从Keras中导入数据集\n",
    "加载Keras中的MNIST数据集"
   ]
  },
  {
   "cell_type": "code",
   "execution_count": 1,
   "id": "2a1a4be2",
   "metadata": {},
   "outputs": [],
   "source": [
    "from keras.datasets import mnist\n",
    "\n",
    "(train_images, train_labels), (test_images, test_labels) = mnist.load_data()"
   ]
  },
  {
   "cell_type": "markdown",
   "id": "6188d85d",
   "metadata": {},
   "source": [
    "## 2、数据预处理\n",
    "将train_images转换为一个(60000, 28 * 28)的张量，并且每个数值在[0, 1]区间  \n",
    "将test_images转换为一个(10000, 28 * 28)的张量，并且每个数值在[0, 1]区间"
   ]
  },
  {
   "cell_type": "code",
   "execution_count": 2,
   "id": "d0a3cd0c",
   "metadata": {},
   "outputs": [],
   "source": [
    "train_images = train_images.reshape((60000, 28 * 28))\n",
    "train_images = train_images.astype('float32') / 255\n",
    "\n",
    "test_images = test_images.reshape((10000, 28 * 28))\n",
    "test_images = test_images.astype('float32') / 255"
   ]
  },
  {
   "cell_type": "markdown",
   "id": "37460e5e",
   "metadata": {},
   "source": [
    "## 3、准备标签数据"
   ]
  },
  {
   "cell_type": "code",
   "execution_count": 3,
   "id": "b9745b6f",
   "metadata": {},
   "outputs": [],
   "source": [
    "from tensorflow.keras.utils import to_categorical\n",
    "\n",
    "train_labels = to_categorical(train_labels)\n",
    "test_labels = to_categorical(test_labels)"
   ]
  },
  {
   "cell_type": "markdown",
   "id": "529f1a07",
   "metadata": {},
   "source": [
    "## 4、构建神经网络\n",
    "构建一个只有两个隐藏层的全连接神经网络  \n",
    "第一个隐藏层有512个神经元,激活函数relu  \n",
    "第二个隐藏层有10个神经元,激活函数softmax,对应数字0-9\n",
    "\n",
    "* 层是一种数据处理模块，可以看做是一种数据过滤器，进去一些数据，出来的数据变得更加有用  \n",
    "* 层从输入数据中提取表示"
   ]
  },
  {
   "cell_type": "code",
   "execution_count": 4,
   "id": "0570fd8c",
   "metadata": {},
   "outputs": [],
   "source": [
    "from keras import models, layers \n",
    "\n",
    "network = models.Sequential()\n",
    "network.add(layers.Dense(512, activation = 'relu', input_shape = (28 * 28,)))\n",
    "network.add(layers.Dense(10, activation = 'softmax'))"
   ]
  },
  {
   "cell_type": "code",
   "execution_count": 5,
   "id": "4ce446c0",
   "metadata": {},
   "outputs": [
    {
     "name": "stdout",
     "output_type": "stream",
     "text": [
      "Model: \"sequential\"\n",
      "_________________________________________________________________\n",
      " Layer (type)                Output Shape              Param #   \n",
      "=================================================================\n",
      " dense (Dense)               (None, 512)               401920    \n",
      "                                                                 \n",
      " dense_1 (Dense)             (None, 10)                5130      \n",
      "                                                                 \n",
      "=================================================================\n",
      "Total params: 407,050\n",
      "Trainable params: 407,050\n",
      "Non-trainable params: 0\n",
      "_________________________________________________________________\n"
     ]
    }
   ],
   "source": [
    "#查看网络中的参数\n",
    "network.summary()"
   ]
  },
  {
   "cell_type": "markdown",
   "id": "400bc51d",
   "metadata": {},
   "source": [
    "绘制网络模型"
   ]
  },
  {
   "cell_type": "code",
   "execution_count": 6,
   "id": "0c5a939e",
   "metadata": {},
   "outputs": [
    {
     "data": {
      "image/png": "[encoded data removed]",
      "text/plain": [
       "<IPython.core.display.Image object>"
      ]
     },
     "execution_count": 6,
     "metadata": {},
     "output_type": "execute_result"
    }
   ],
   "source": [
    "from tensorflow.keras.utils import plot_model\n",
    "\n",
    "plot_model(network, show_shapes = True, to_file = '手写辨识.png')"
   ]
  },
  {
   "cell_type": "markdown",
   "id": "cbe4412a",
   "metadata": {},
   "source": [
    "## 5、网络编译\n",
    "选择网络的优化器、损失函数、度量"
   ]
  },
  {
   "cell_type": "code",
   "execution_count": 7,
   "id": "79bd06ca",
   "metadata": {},
   "outputs": [],
   "source": [
    "network.compile(optimizer = 'rmsprop',\n",
    "                loss = 'categorical_crossentropy',\n",
    "                metrics = ['accuracy'])"
   ]
  },
  {
   "cell_type": "markdown",
   "id": "d755f5b3",
   "metadata": {},
   "source": [
    "## 6、拟合模型"
   ]
  },
  {
   "cell_type": "code",
   "execution_count": 8,
   "id": "3ab11ffe",
   "metadata": {},
   "outputs": [
    {
     "name": "stdout",
     "output_type": "stream",
     "text": [
      "Epoch 1/5\n",
      "469/469 [==============================] - 2s 4ms/step - loss: 0.2597 - accuracy: 0.9243\n",
      "Epoch 2/5\n",
      "469/469 [==============================] - 2s 4ms/step - loss: 0.1034 - accuracy: 0.9697\n",
      "Epoch 3/5\n",
      "469/469 [==============================] - 2s 4ms/step - loss: 0.0682 - accuracy: 0.9798\n",
      "Epoch 4/5\n",
      "469/469 [==============================] - 2s 4ms/step - loss: 0.0496 - accuracy: 0.9849\n",
      "Epoch 5/5\n",
      "469/469 [==============================] - 2s 4ms/step - loss: 0.0364 - accuracy: 0.9890\n"
     ]
    },
    {
     "data": {
      "text/plain": [
       "<keras.callbacks.History at 0x1ecebe7e130>"
      ]
     },
     "execution_count": 8,
     "metadata": {},
     "output_type": "execute_result"
    }
   ],
   "source": [
    "network.fit(train_images, train_labels, epochs = 5, batch_size = 128)"
   ]
  },
  {
   "cell_type": "markdown",
   "id": "16eaab31",
   "metadata": {},
   "source": [
    "## 7、在验证集上查看网络的性能"
   ]
  },
  {
   "cell_type": "code",
   "execution_count": 9,
   "id": "816f5d9c",
   "metadata": {},
   "outputs": [
    {
     "name": "stdout",
     "output_type": "stream",
     "text": [
      "313/313 [==============================] - 0s 614us/step - loss: 0.0639 - accuracy: 0.9816\n"
     ]
    }
   ],
   "source": [
    "test_loss, test_acc = network.evaluate(test_images, test_labels)"
   ]
  },
  {
   "cell_type": "code",
   "execution_count": 10,
   "id": "2733ecc3",
   "metadata": {},
   "outputs": [
    {
     "name": "stdout",
     "output_type": "stream",
     "text": [
      "test_loss : 0.06393778324127197\n",
      "test_acc : 0.9815999865531921\n"
     ]
    }
   ],
   "source": [
    "print(f\"test_loss : {test_loss}\")\n",
    "print(f\"test_acc : {test_acc}\")"
   ]
  }
 ],
 "metadata": {
  "kernelspec": {
   "display_name": "Python 3",
   "language": "python",
   "name": "python3"
  },
  "language_info": {
   "codemirror_mode": {
    "name": "ipython",
    "version": 3
   },
   "file_extension": ".py",
   "mimetype": "text/x-python",
   "name": "python",
   "nbconvert_exporter": "python",
   "pygments_lexer": "ipython3",
   "version": "3.8.8"
  }
 },
 "nbformat": 4,
 "nbformat_minor": 5
}
