{
 "cells": [
  {
   "cell_type": "code",
   "execution_count": null,
   "id": "2d63222d",
   "metadata": {},
   "outputs": [],
   "source": [
    "import csv\n",
    "from datetime import datetime\n",
    "\n",
    "filename = 'D:\\\\Download\\\\data.csv'\n",
    "\n",
    "with open(filename) as f:\n",
    "    lines = csv.reader(f)\n",
    "    header = next(lines)\n",
    "    header = next(lines)\n",
    "\n",
    "    loss_data = 0\n",
    "    dates, highs, lows, avgs = [], [], [], []\n",
    "    for line in lines:\n",
    "        try:\n",
    "            date = line[0]\n",
    "            date = date[:10]\n",
    "            current_date = datetime.strptime(date, '%Y-%m-%d')\n",
    "            avg = int(line[1]) - 32 * 5 / 9\n",
    "            high = int(line[2]) - 32 * 5 / 9\n",
    "            low = int(line[3]) - 32 * 5 / 9\n",
    "\n",
    "        except ValueError:\n",
    "            loss_data += 1\n",
    "\n",
    "        else:\n",
    "            dates.append(current_date)\n",
    "            avgs.append(avg)\n",
    "            highs.append(highs)\n",
    "            lows.append(low)\n",
    "            \n",
    "print(loss_data)\n",
    "print(len(dates), len(avgs), len(highs), len(lows))"
   ]
  },
  {
   "cell_type": "code",
   "execution_count": null,
   "id": "7023426e",
   "metadata": {},
   "outputs": [],
   "source": [
    "import matplotlib.pyplot as plt\n",
    "\n",
    "plt.style.use('seaborn')\n",
    "fig, ax = plt.subplots()\n",
    "ax.plot(dates, highs, c='red', alpha=0.5)\n",
    "ax.plot(dates, lows, c='blue', alpha=0.5)\n",
    "ax.fill_between(dates, highs, lows, facecolor='blue', alpha=0.1)\n",
    "#在[lows, hihs]之间的区域进行填充，它接受一个x值系列和两个y值系列，并填充两个系列之间的空间\n",
    "\n",
    "# Format plot.\n",
    "ax.set_title(\"Daily high and low temperatures - 2018\", fontsize=24)\n",
    "ax.set_xlabel('', fontsize=16)\n",
    "fig.autofmt_xdate()     #通过绘制倾斜的日期标签，避免彼此重叠\n",
    "ax.set_ylabel(\"Temperature (F)\", fontsize=16)\n",
    "ax.tick_params(axis='both', which='major', labelsize=16)   #设置刻度标记大小\n",
    "\n",
    "plt.show()"
   ]
  },
  {
   "cell_type": "code",
   "execution_count": null,
   "id": "0b1a69eb",
   "metadata": {},
   "outputs": [],
   "source": []
  }
 ],
 "metadata": {
  "kernelspec": {
   "display_name": "Python 3",
   "language": "python",
   "name": "python3"
  },
  "language_info": {
   "codemirror_mode": {
    "name": "ipython",
    "version": 3
   },
   "file_extension": ".py",
   "mimetype": "text/x-python",
   "name": "python",
   "nbconvert_exporter": "python",
   "pygments_lexer": "ipython3",
   "version": "3.8.8"
  }
 },
 "nbformat": 4,
 "nbformat_minor": 5
}
