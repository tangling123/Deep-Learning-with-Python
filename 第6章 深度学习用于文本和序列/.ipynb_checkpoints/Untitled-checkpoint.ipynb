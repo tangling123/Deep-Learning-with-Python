{
 "cells": [
  {
   "cell_type": "code",
   "execution_count": 1,
   "id": "e6c4b150",
   "metadata": {},
   "outputs": [],
   "source": [
    "data_path = 'D:\\\\Download\\\\IMDB Dataset.csv'\n",
    "\n",
    "#从文件中读取数据\n",
    "import pandas as pd\n",
    "\n",
    "imdb_data = pd.read_csv(data_path)"
   ]
  },
  {
   "cell_type": "code",
   "execution_count": 5,
   "id": "df32019a",
   "metadata": {},
   "outputs": [
    {
     "name": "stdout",
     "output_type": "stream",
     "text": [
      "(50000, 2)\n",
      "positive    25000\n",
      "negative    25000\n",
      "Name: sentiment, dtype: int64\n"
     ]
    }
   ],
   "source": [
    "#查看IMDB数据集的shape和前10条电影评论\n",
    "print(imdb_data.shape)\n",
    "imdb_data.head(10)\n",
    "\n",
    "#imdb_data的键：review和sentiment\n",
    "print(imdb_data['sentiment'].value_counts())"
   ]
  },
  {
   "cell_type": "code",
   "execution_count": 8,
   "id": "03e080ad",
   "metadata": {},
   "outputs": [
    {
     "name": "stdout",
     "output_type": "stream",
     "text": [
      "Length of labels 50000\n",
      "Length of texts 50000\n"
     ]
    }
   ],
   "source": [
    "#将imdb_data中的数据存储到labels和texts当中\n",
    "labels, texts = [], []\n",
    "\n",
    "for review in imdb_data['review']:\n",
    "    texts.append(review)\n",
    "    \n",
    "for label in imdb_data['sentiment']:\n",
    "    if label == 'positive':\n",
    "        labels.append(float(1.0))\n",
    "    else:\n",
    "        labels.append(float(0))\n",
    "        \n",
    "print('Length of labels', len(labels))\n",
    "print('Length of texts', len(texts))"
   ]
  },
  {
   "cell_type": "markdown",
   "id": "0bc9f7a7",
   "metadata": {},
   "source": [
    "划分数据集，在这里首先将数据打乱，再将前15000个数据作为训练，之后的10000个数据用于验证，其余的25000个数据用于测试"
   ]
  },
  {
   "cell_type": "code",
   "execution_count": 11,
   "id": "60c9e794",
   "metadata": {},
   "outputs": [
    {
     "name": "stdout",
     "output_type": "stream",
     "text": [
      "Found 124252 unique tokens\n",
      "Shape of data (50000, 100)\n",
      "Shape of labels (50000,)\n"
     ]
    }
   ],
   "source": [
    "from keras.preprocessing.text import Tokenizer\n",
    "from keras.preprocessing.sequence import pad_sequences\n",
    "import numpy as np\n",
    "\n",
    "tokenizer = Tokenizer(num_words = 10000)\n",
    "tokenizer.fit_on_texts(texts)\n",
    "sequences = tokenizer.texts_to_sequences(texts)\n",
    "\n",
    "word_index = tokenizer.word_index\n",
    "print('Found %s unique tokens' % len(word_index))\n",
    "\n",
    "data = pad_sequences(sequences, maxlen = 100)\n",
    "labels = np.asarray(labels)\n",
    "print('Shape of data', data.shape)\n",
    "print('Shape of labels', labels.shape)\n",
    "\n",
    "indices = np.arange(data.shape[0])\n",
    "data = data[indices]\n",
    "labels = labels[indices]\n",
    "\n",
    "x_train = data[: 15000]\n",
    "y_train = labels[: 15000]\n",
    "\n",
    "x_val = data[15000 : 25000]\n",
    "y_val = labels[15000 : 25000]\n",
    "\n",
    "x_test = data[25000:]\n",
    "y_test = data[25000:]"
   ]
  },
  {
   "cell_type": "code",
   "execution_count": 12,
   "id": "19fd827c",
   "metadata": {},
   "outputs": [
    {
     "name": "stdout",
     "output_type": "stream",
     "text": [
      "(15000, 100) (15000,)\n"
     ]
    }
   ],
   "source": []
  },
  {
   "cell_type": "code",
   "execution_count": null,
   "id": "7b5fa2e2",
   "metadata": {},
   "outputs": [],
   "source": []
  }
 ],
 "metadata": {
  "kernelspec": {
   "display_name": "Python 3",
   "language": "python",
   "name": "python3"
  },
  "language_info": {
   "codemirror_mode": {
    "name": "ipython",
    "version": 3
   },
   "file_extension": ".py",
   "mimetype": "text/x-python",
   "name": "python",
   "nbconvert_exporter": "python",
   "pygments_lexer": "ipython3",
   "version": "3.8.8"
  }
 },
 "nbformat": 4,
 "nbformat_minor": 5
}
