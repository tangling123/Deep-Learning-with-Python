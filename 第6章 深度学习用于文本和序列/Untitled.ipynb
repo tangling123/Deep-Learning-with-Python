{
 "cells": [
  {
   "cell_type": "code",
   "execution_count": 1,
   "id": "e6c4b150",
   "metadata": {},
   "outputs": [],
   "source": [
    "data_path = 'D:\\\\Download\\\\IMDB Dataset.csv'\n",
    "\n",
    "#从文件中读取数据\n",
    "import pandas as pd\n",
    "\n",
    "imdb_data = pd.read_csv(data_path)"
   ]
  },
  {
   "cell_type": "code",
   "execution_count": 2,
   "id": "df32019a",
   "metadata": {},
   "outputs": [
    {
     "name": "stdout",
     "output_type": "stream",
     "text": [
      "(50000, 2)\n",
      "negative    25000\n",
      "positive    25000\n",
      "Name: sentiment, dtype: int64\n"
     ]
    }
   ],
   "source": [
    "#查看IMDB数据集的shape和前10条电影评论\n",
    "print(imdb_data.shape)\n",
    "imdb_data.head(10)\n",
    "\n",
    "#imdb_data的键：review和sentiment\n",
    "print(imdb_data['sentiment'].value_counts())"
   ]
  },
  {
   "cell_type": "code",
   "execution_count": 3,
   "id": "03e080ad",
   "metadata": {},
   "outputs": [
    {
     "name": "stdout",
     "output_type": "stream",
     "text": [
      "Length of labels 50000\n",
      "Length of texts 50000\n"
     ]
    }
   ],
   "source": [
    "#将imdb_data中的数据存储到labels和texts当中\n",
    "labels, texts = [], []\n",
    "\n",
    "for review in imdb_data['review']:\n",
    "    texts.append(review)\n",
    "    \n",
    "for label in imdb_data['sentiment']:\n",
    "    if label == 'positive':\n",
    "        labels.append(float(1.0))\n",
    "    else:\n",
    "        labels.append(float(0))\n",
    "        \n",
    "print('Length of labels', len(labels))\n",
    "print('Length of texts', len(texts))"
   ]
  },
  {
   "cell_type": "markdown",
   "id": "0bc9f7a7",
   "metadata": {},
   "source": [
    "划分数据集，在这里首先将数据打乱，再将前15000个数据作为训练，之后的10000个数据用于验证，其余的25000个数据用于测试"
   ]
  },
  {
   "cell_type": "code",
   "execution_count": 9,
   "id": "60c9e794",
   "metadata": {},
   "outputs": [
    {
     "name": "stdout",
     "output_type": "stream",
     "text": [
      "Found 124252 unique tokens\n",
      "Shape of data (50000, 100)\n",
      "Shape of labels (50000,)\n"
     ]
    }
   ],
   "source": [
    "from keras.preprocessing.text import Tokenizer\n",
    "from keras.preprocessing.sequence import pad_sequences\n",
    "import numpy as np\n",
    "\n",
    "tokenizer = Tokenizer(num_words = 10000)\n",
    "tokenizer.fit_on_texts(texts)\n",
    "sequences = tokenizer.texts_to_sequences(texts)\n",
    "\n",
    "word_index = tokenizer.word_index\n",
    "print('Found %s unique tokens' % len(word_index))\n",
    "\n",
    "data = pad_sequences(sequences, maxlen = 100)\n",
    "labels = np.asarray(labels)\n",
    "print('Shape of data', data.shape)\n",
    "print('Shape of labels', labels.shape)\n",
    "\n",
    "indices = np.arange(data.shape[0])\n",
    "data = data[indices]\n",
    "labels = labels[indices]\n",
    "\n",
    "x_train = data[: 15000]\n",
    "y_train = labels[: 15000]\n",
    "\n",
    "x_val = data[15000 : 25000]\n",
    "y_val = labels[15000 : 25000]\n",
    "\n",
    "x_test = data[25000:]\n",
    "y_test = labels[25000:]"
   ]
  },
  {
   "cell_type": "code",
   "execution_count": 5,
   "id": "19fd827c",
   "metadata": {},
   "outputs": [
    {
     "name": "stdout",
     "output_type": "stream",
     "text": [
      "(15000, 100) (15000,)\n"
     ]
    }
   ],
   "source": [
    "print(x_train.shape, y_train.shape)"
   ]
  },
  {
   "cell_type": "code",
   "execution_count": 7,
   "id": "7b5fa2e2",
   "metadata": {},
   "outputs": [
    {
     "name": "stdout",
     "output_type": "stream",
     "text": [
      "Model: \"sequential_1\"\n",
      "_________________________________________________________________\n",
      " Layer (type)                Output Shape              Param #   \n",
      "=================================================================\n",
      " embedding_1 (Embedding)     (None, 100, 8)            80000     \n",
      "                                                                 \n",
      " flatten_1 (Flatten)         (None, 800)               0         \n",
      "                                                                 \n",
      " dense_1 (Dense)             (None, 1)                 801       \n",
      "                                                                 \n",
      "=================================================================\n",
      "Total params: 80,801\n",
      "Trainable params: 80,801\n",
      "Non-trainable params: 0\n",
      "_________________________________________________________________\n",
      "Epoch 1/10\n",
      "469/469 [==============================] - 1s 1ms/step - loss: 0.6406 - accuracy: 0.6663 - val_loss: 0.5242 - val_accuracy: 0.7921\n",
      "Epoch 2/10\n",
      "469/469 [==============================] - 0s 1ms/step - loss: 0.4059 - accuracy: 0.8409 - val_loss: 0.3731 - val_accuracy: 0.8426\n",
      "Epoch 3/10\n",
      "469/469 [==============================] - 0s 1ms/step - loss: 0.2950 - accuracy: 0.8856 - val_loss: 0.3397 - val_accuracy: 0.8515\n",
      "Epoch 4/10\n",
      "469/469 [==============================] - 0s 995us/step - loss: 0.2464 - accuracy: 0.9035 - val_loss: 0.3327 - val_accuracy: 0.8548\n",
      "Epoch 5/10\n",
      "469/469 [==============================] - 0s 1ms/step - loss: 0.2133 - accuracy: 0.9189 - val_loss: 0.3315 - val_accuracy: 0.8582\n",
      "Epoch 6/10\n",
      "469/469 [==============================] - 0s 1ms/step - loss: 0.1868 - accuracy: 0.9296 - val_loss: 0.3388 - val_accuracy: 0.8575\n",
      "Epoch 7/10\n",
      "469/469 [==============================] - 0s 978us/step - loss: 0.1638 - accuracy: 0.9404 - val_loss: 0.3502 - val_accuracy: 0.8572\n",
      "Epoch 8/10\n",
      "469/469 [==============================] - 0s 1ms/step - loss: 0.1437 - accuracy: 0.9495 - val_loss: 0.3548 - val_accuracy: 0.8575\n",
      "Epoch 9/10\n",
      "469/469 [==============================] - 0s 989us/step - loss: 0.1248 - accuracy: 0.9574 - val_loss: 0.3709 - val_accuracy: 0.8537\n",
      "Epoch 10/10\n",
      "469/469 [==============================] - 0s 985us/step - loss: 0.1077 - accuracy: 0.9641 - val_loss: 0.3800 - val_accuracy: 0.8526\n"
     ]
    }
   ],
   "source": [
    "#在IMDB数据上使用Embedding层和分类器\n",
    "from keras.models import Sequential\n",
    "from keras.layers import Flatten, Dense, Embedding\n",
    "\n",
    "model_fc = Sequential()\n",
    "model_fc.add(Embedding(10000, 8, input_length=100))\n",
    "model_fc.add(Flatten())\n",
    "model_fc.add(Dense(1, activation='sigmoid'))\n",
    "\n",
    "model_fc.summary()\n",
    "\n",
    "model_fc.compile('rmsprop', 'binary_crossentropy', 'accuracy')\n",
    "\n",
    "history_fc = model_fc.fit(x_train, y_train,\n",
    "                          epochs=10,\n",
    "                          batch_size=32,\n",
    "                          validation_data=(x_val, y_val))"
   ]
  },
  {
   "cell_type": "code",
   "execution_count": 11,
   "id": "c82674ec",
   "metadata": {},
   "outputs": [
    {
     "data": {
      "image/png": "[encoded data removed]",
      "text/plain": [
       "<Figure size 432x288 with 1 Axes>"
      ]
     },
     "metadata": {
      "needs_background": "light"
     },
     "output_type": "display_data"
    },
    {
     "data": {
      "image/png": "[encoded data removed]",
      "text/plain": [
       "<Figure size 432x288 with 1 Axes>"
      ]
     },
     "metadata": {
      "needs_background": "light"
     },
     "output_type": "display_data"
    }
   ],
   "source": [
    "#绘制验证的结果\n",
    "import matplotlib.pyplot as plt\n",
    "\n",
    "acc = history_fc.history['accuracy']\n",
    "val_acc = history_fc.history['val_accuracy']\n",
    "\n",
    "epochs = range(1, len(acc) + 1)\n",
    "\n",
    "plt.plot(epochs, acc, 'b', label = \"Training Accuracy\")\n",
    "plt.plot(epochs, val_acc, 'o', label = \"Validating Accuracy\")\n",
    "plt.title(\"Training Accuracy and Validating Accuracy\")\n",
    "plt.xlabel(\"Epochs\")\n",
    "plt.ylabel(\"Accuracy\")\n",
    "plt.legend()\n",
    "\n",
    "plt.show()\n",
    "\n",
    "#2、训练损失和验证损失\n",
    "loss = history_fc.history['loss']\n",
    "val_loss = history_fc.history['val_loss']\n",
    "\n",
    "plt.plot(epochs, loss, 'b', label = \"Training Loss\")\n",
    "plt.plot(epochs, val_loss, 'o', label = \"Validating Loss\")\n",
    "plt.title(\"Training Loss and Validating Loss\")\n",
    "plt.legend()\n",
    "\n",
    "plt.show()"
   ]
  },
  {
   "cell_type": "code",
   "execution_count": 10,
   "id": "b944e38c",
   "metadata": {},
   "outputs": [
    {
     "name": "stdout",
     "output_type": "stream",
     "text": [
      "782/782 [==============================] - 0s 432us/step - loss: 0.3682 - accuracy: 0.8527\n",
      "Test loss 0.36823850870132446\n",
      "Test Accuracy 0.8527200222015381\n"
     ]
    }
   ],
   "source": [
    "#在测试集上进行验证\n",
    "test_loss, test_acc = model_fc.evaluate(x_test, y_test)\n",
    "print('Test loss', test_loss)\n",
    "print('Test Accuracy', test_acc)"
   ]
  },
  {
   "cell_type": "code",
   "execution_count": null,
   "id": "8ead929c",
   "metadata": {},
   "outputs": [],
   "source": []
  }
 ],
 "metadata": {
  "kernelspec": {
   "display_name": "Python 3",
   "language": "python",
   "name": "python3"
  },
  "language_info": {
   "codemirror_mode": {
    "name": "ipython",
    "version": 3
   },
   "file_extension": ".py",
   "mimetype": "text/x-python",
   "name": "python",
   "nbconvert_exporter": "python",
   "pygments_lexer": "ipython3",
   "version": "3.8.8"
  }
 },
 "nbformat": 4,
 "nbformat_minor": 5
}
