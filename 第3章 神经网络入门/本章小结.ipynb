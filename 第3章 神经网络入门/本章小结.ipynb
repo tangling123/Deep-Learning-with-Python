{
 "cells": [
  {
   "cell_type": "markdown",
   "id": "c3d3c534",
   "metadata": {},
   "source": [
    "(1)在原始数据输入神经网络之前，首先需要进行数据的预处理  \n",
    "(2)如果数据特征有不同的取值范围，那么需要进行标准化，对每个数据的特征进行缩放  \n",
    "(3)随着网络的不断拟合，在训练集上的表现越来越好，但在验证集上的性能却越来越差，这时候出现了“过拟合”  \n",
    "(4)如果训练数据不是很多，应该使用只有一两个隐藏层的小型网络，以避免严重的过拟合  \n",
    "(5)如果数据被分为多个类别，那么中间层过小可能会导致信息瓶颈  \n",
    "(6)回归问题中的损失函数loss和评估指标metrica与分类问题不同  \n",
    "(7)如果处理的数据比较很少，那么K折验证有助于可靠地评估模型"
   ]
  }
 ],
 "metadata": {
  "kernelspec": {
   "display_name": "Python 3 (ipykernel)",
   "language": "python",
   "name": "python3"
  },
  "language_info": {
   "codemirror_mode": {
    "name": "ipython",
    "version": 3
   },
   "file_extension": ".py",
   "mimetype": "text/x-python",
   "name": "python",
   "nbconvert_exporter": "python",
   "pygments_lexer": "ipython3",
   "version": "3.9.7"
  }
 },
 "nbformat": 4,
 "nbformat_minor": 5
}
