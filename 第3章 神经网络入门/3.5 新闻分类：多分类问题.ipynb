{
 "cells": [
  {
   "cell_type": "markdown",
   "id": "892a18f2",
   "metadata": {},
   "source": [
    "## 1、加载路透社数据集"
   ]
  },
  {
   "cell_type": "code",
   "execution_count": 2,
   "id": "f0debbc7",
   "metadata": {},
   "outputs": [],
   "source": [
    "from keras.datasets import reuters\n",
    "\n",
    "(train_data, train_labels), (test_data, test_labels) = reuters.load_data(num_words = 10000)"
   ]
  },
  {
   "cell_type": "markdown",
   "id": "280b8e9b",
   "metadata": {},
   "source": [
    "查看数据集中的训练样本数和测试样本数"
   ]
  },
  {
   "cell_type": "code",
   "execution_count": 3,
   "id": "e27ed61b",
   "metadata": {},
   "outputs": [
    {
     "name": "stdout",
     "output_type": "stream",
     "text": [
      "train_data's length : 8982\n",
      "test_data's length : 2246\n"
     ]
    }
   ],
   "source": [
    "print(f\"train_data's length : {len(train_data)}\")\n",
    "print(f\"test_data's length : {len(test_data)}\")"
   ]
  },
  {
   "cell_type": "markdown",
   "id": "df849d9f",
   "metadata": {},
   "source": [
    "将数字进行解码"
   ]
  },
  {
   "cell_type": "code",
   "execution_count": 4,
   "id": "195a9295",
   "metadata": {},
   "outputs": [],
   "source": [
    "word_index = reuters.get_word_index()\n",
    "index_word = dict([(value, key) for key,value in word_index.items()])\n",
    "decoded_review = ' '.join([index_word.get(i-3, '?') for i in train_data[0]])"
   ]
  },
  {
   "cell_type": "markdown",
   "id": "4a4c4e69",
   "metadata": {},
   "source": [
    "查看第一条新闻点的原始数据、解码后的信息以及对应的标签 "
   ]
  },
  {
   "cell_type": "code",
   "execution_count": 5,
   "id": "85513b89",
   "metadata": {},
   "outputs": [
    {
     "name": "stdout",
     "output_type": "stream",
     "text": [
      "[1, 2, 2, 8, 43, 10, 447, 5, 25, 207, 270, 5, 3095, 111, 16, 369, 186, 90, 67, 7, 89, 5, 19, 102, 6, 19, 124, 15, 90, 67, 84, 22, 482, 26, 7, 48, 4, 49, 8, 864, 39, 209, 154, 6, 151, 6, 83, 11, 15, 22, 155, 11, 15, 7, 48, 9, 4579, 1005, 504, 6, 258, 6, 272, 11, 15, 22, 134, 44, 11, 15, 16, 8, 197, 1245, 90, 67, 52, 29, 209, 30, 32, 132, 6, 109, 15, 17, 12]\n",
      "? ? ? said as a result of its december acquisition of space co it expects earnings per share in 1987 of 1 15 to 1 30 dlrs per share up from 70 cts in 1986 the company said pretax net should rise to nine to 10 mln dlrs from six mln dlrs in 1986 and rental operation revenues to 19 to 22 mln dlrs from 12 5 mln dlrs it said cash flow per share this year should be 2 50 to three dlrs reuter 3\n",
      "3\n"
     ]
    }
   ],
   "source": [
    "print(train_data[0])\n",
    "print(decoded_review)\n",
    "print(train_labels[0])"
   ]
  },
  {
   "cell_type": "markdown",
   "id": "ba3b1b8a",
   "metadata": {},
   "source": [
    "## 2、数据的预处理\n",
    "不能直接将整数列表直接输入神经网络，需要将整数列表转换为张量  \n",
    "one-hot编码，将其转换为0、1的张量  \n",
    "然后网络的第一次层可以使用Dense层"
   ]
  },
  {
   "cell_type": "code",
   "execution_count": 6,
   "id": "75f0c555",
   "metadata": {},
   "outputs": [],
   "source": [
    "import numpy as np\n",
    "\n",
    "def vectorize_sequences(sequences, dimension = 10000):\n",
    "    results = np.zeros((len(sequences), dimension))\n",
    "    for i, sequence in enumerate(sequences):\n",
    "        results[i, sequence] = 1\n",
    "    return results"
   ]
  },
  {
   "cell_type": "code",
   "execution_count": 7,
   "id": "3a9e7622",
   "metadata": {},
   "outputs": [],
   "source": [
    "x_train = vectorize_sequences(train_data)\n",
    "x_test = vectorize_sequences(test_data)"
   ]
  },
  {
   "cell_type": "markdown",
   "id": "1db1b102",
   "metadata": {},
   "source": [
    "标签向量化"
   ]
  },
  {
   "cell_type": "code",
   "execution_count": 8,
   "id": "0334cbe5",
   "metadata": {},
   "outputs": [],
   "source": [
    "from tensorflow.keras.utils import to_categorical\n",
    "\n",
    "y_train = to_categorical(train_labels)\n",
    "y_test = to_categorical(test_labels)"
   ]
  },
  {
   "cell_type": "markdown",
   "id": "e4b92c37",
   "metadata": {},
   "source": [
    "3、构建网络"
   ]
  },
  {
   "cell_type": "code",
   "execution_count": 9,
   "id": "12265b0a",
   "metadata": {},
   "outputs": [],
   "source": [
    "from keras import models, layers\n",
    "\n",
    "network = models.Sequential()\n",
    "network.add(layers.Dense(64, activation = 'relu', input_shape = (10000, )))\n",
    "network.add(layers.Dense(64, activation = 'relu'))\n",
    "network.add(layers.Dense(46, activation = 'sigmoid'))"
   ]
  },
  {
   "cell_type": "markdown",
   "id": "c793bf41",
   "metadata": {},
   "source": [
    "绘制网络拓扑图"
   ]
  },
  {
   "cell_type": "code",
   "execution_count": 10,
   "id": "dd1e2500",
   "metadata": {},
   "outputs": [
    {
     "data": {
      "image/png": "[encoded data removed]",
      "text/plain": [
       "<IPython.core.display.Image object>"
      ]
     },
     "execution_count": 10,
     "metadata": {},
     "output_type": "execute_result"
    }
   ],
   "source": [
    "from tensorflow.keras.utils import plot_model\n",
    "\n",
    "plot_model(network, show_shapes = True)"
   ]
  },
  {
   "cell_type": "markdown",
   "id": "e9dd2ec7",
   "metadata": {},
   "source": [
    "4、编译网络"
   ]
  },
  {
   "cell_type": "code",
   "execution_count": 11,
   "id": "144e25c7",
   "metadata": {},
   "outputs": [],
   "source": [
    "network.compile(optimizer = 'rmsprop',\n",
    "                loss = 'categorical_crossentropy',\n",
    "                metrics = ['accuracy'])"
   ]
  },
  {
   "cell_type": "markdown",
   "id": "7da81489",
   "metadata": {},
   "source": [
    "5、留出验证集"
   ]
  },
  {
   "cell_type": "code",
   "execution_count": 12,
   "id": "4a6b7091",
   "metadata": {},
   "outputs": [],
   "source": [
    "x_val = x_train[:1000]\n",
    "y_val = y_train[:1000]\n",
    "\n",
    "x_train = x_train[1000:]\n",
    "y_train = y_train[1000:]"
   ]
  },
  {
   "cell_type": "markdown",
   "id": "35b52d5e",
   "metadata": {},
   "source": [
    "6、训练模型"
   ]
  },
  {
   "cell_type": "code",
   "execution_count": 13,
   "id": "c3ae6440",
   "metadata": {},
   "outputs": [
    {
     "name": "stdout",
     "output_type": "stream",
     "text": [
      "Epoch 1/20\n",
      "16/16 [==============================] - 1s 49ms/step - loss: 2.6308 - accuracy: 0.5105 - val_loss: 1.7976 - val_accuracy: 0.6360\n",
      "Epoch 2/20\n",
      "16/16 [==============================] - 1s 41ms/step - loss: 1.4622 - accuracy: 0.7055 - val_loss: 1.3191 - val_accuracy: 0.7040\n",
      "Epoch 3/20\n",
      "16/16 [==============================] - 1s 33ms/step - loss: 1.0713 - accuracy: 0.7724 - val_loss: 1.1687 - val_accuracy: 0.7520\n",
      "Epoch 4/20\n",
      "16/16 [==============================] - 0s 31ms/step - loss: 0.8402 - accuracy: 0.8252 - val_loss: 1.0429 - val_accuracy: 0.7750\n",
      "Epoch 5/20\n",
      "16/16 [==============================] - 1s 32ms/step - loss: 0.6663 - accuracy: 0.8641 - val_loss: 0.9841 - val_accuracy: 0.7860\n",
      "Epoch 6/20\n",
      "16/16 [==============================] - 1s 37ms/step - loss: 0.5307 - accuracy: 0.8913 - val_loss: 0.9285 - val_accuracy: 0.8050\n",
      "Epoch 7/20\n",
      "16/16 [==============================] - 1s 40ms/step - loss: 0.4244 - accuracy: 0.9118 - val_loss: 0.9183 - val_accuracy: 0.8050\n",
      "Epoch 8/20\n",
      "16/16 [==============================] - 1s 38ms/step - loss: 0.3502 - accuracy: 0.9280 - val_loss: 0.8981 - val_accuracy: 0.8270\n",
      "Epoch 9/20\n",
      "16/16 [==============================] - 0s 30ms/step - loss: 0.2871 - accuracy: 0.9389 - val_loss: 0.9037 - val_accuracy: 0.8160\n",
      "Epoch 10/20\n",
      "16/16 [==============================] - 1s 37ms/step - loss: 0.2447 - accuracy: 0.9456 - val_loss: 0.9005 - val_accuracy: 0.8140\n",
      "Epoch 11/20\n",
      "16/16 [==============================] - 1s 31ms/step - loss: 0.2078 - accuracy: 0.9496 - val_loss: 0.8878 - val_accuracy: 0.8240\n",
      "Epoch 12/20\n",
      "16/16 [==============================] - 1s 33ms/step - loss: 0.1879 - accuracy: 0.9514 - val_loss: 0.9311 - val_accuracy: 0.8220\n",
      "Epoch 13/20\n",
      "16/16 [==============================] - 1s 34ms/step - loss: 0.1646 - accuracy: 0.9536 - val_loss: 0.9155 - val_accuracy: 0.8220\n",
      "Epoch 14/20\n",
      "16/16 [==============================] - 1s 41ms/step - loss: 0.1527 - accuracy: 0.9555 - val_loss: 0.9638 - val_accuracy: 0.8200\n",
      "Epoch 15/20\n",
      "16/16 [==============================] - 1s 37ms/step - loss: 0.1388 - accuracy: 0.9553 - val_loss: 0.9868 - val_accuracy: 0.8080\n",
      "Epoch 16/20\n",
      "16/16 [==============================] - 1s 37ms/step - loss: 0.1367 - accuracy: 0.9570 - val_loss: 1.0352 - val_accuracy: 0.8100\n",
      "Epoch 17/20\n",
      "16/16 [==============================] - 1s 37ms/step - loss: 0.1263 - accuracy: 0.9545 - val_loss: 1.0449 - val_accuracy: 0.8020\n",
      "Epoch 18/20\n",
      "16/16 [==============================] - 1s 34ms/step - loss: 0.1235 - accuracy: 0.9582 - val_loss: 1.0224 - val_accuracy: 0.8190\n",
      "Epoch 19/20\n",
      "16/16 [==============================] - 1s 36ms/step - loss: 0.1131 - accuracy: 0.9590 - val_loss: 1.0560 - val_accuracy: 0.8140\n",
      "Epoch 20/20\n",
      "16/16 [==============================] - 1s 32ms/step - loss: 0.1137 - accuracy: 0.9553 - val_loss: 1.0511 - val_accuracy: 0.8170\n"
     ]
    }
   ],
   "source": [
    "history = network.fit(x_train, y_train, epochs = 20, batch_size = 512, validation_data = (x_val, y_val))"
   ]
  },
  {
   "cell_type": "markdown",
   "id": "b863ac52",
   "metadata": {},
   "source": [
    "7、绘制验证损失和训练损失"
   ]
  },
  {
   "cell_type": "code",
   "execution_count": 14,
   "id": "6c5f72ae",
   "metadata": {},
   "outputs": [
    {
     "data": {
      "image/png": "[encoded data removed]",
      "text/plain": [
       "<Figure size 432x288 with 1 Axes>"
      ]
     },
     "metadata": {
      "needs_background": "light"
     },
     "output_type": "display_data"
    }
   ],
   "source": [
    "import matplotlib.pyplot as plt\n",
    "\n",
    "loss = history.history['loss']\n",
    "val_loss = history.history['val_loss']\n",
    "epochs = range(1, len(loss) + 1)\n",
    "\n",
    "plt.plot(epochs, loss, 'blue', label = 'Training Loss')\n",
    "plt.plot(epochs, val_loss, 'orange', label = 'Validating Loss')\n",
    "plt.title('Training Loss and Validating Loss')\n",
    "plt.xlabel('Epochs')\n",
    "plt.ylabel('Loss')\n",
    "plt.legend()\n",
    "\n",
    "plt.show()"
   ]
  },
  {
   "cell_type": "markdown",
   "id": "418b7b4c",
   "metadata": {},
   "source": [
    "8、绘制言训练精度和验证精度"
   ]
  },
  {
   "cell_type": "code",
   "execution_count": 15,
   "id": "474523bf",
   "metadata": {},
   "outputs": [
    {
     "data": {
      "image/png": "[encoded data removed]",
      "text/plain": [
       "<Figure size 432x288 with 1 Axes>"
      ]
     },
     "metadata": {
      "needs_background": "light"
     },
     "output_type": "display_data"
    }
   ],
   "source": [
    "accuracy = history.history['accuracy']\n",
    "val_accuracy = history.history['val_accuracy']\n",
    "\n",
    "plt.plot(epochs, accuracy, 'blue', label = 'Training Accuracy')\n",
    "plt.plot(epochs, val_accuracy, 'orange', label = 'Validating Accuracy')\n",
    "plt.title('Training Accuracy and Validating Accuracy')\n",
    "plt.xlabel('Epochs')\n",
    "plt.ylabel('Accuracy')\n",
    "plt.legend()\n",
    "\n",
    "plt.show()"
   ]
  },
  {
   "cell_type": "markdown",
   "id": "ed5760e3",
   "metadata": {},
   "source": [
    "9、从头开始训练一个模型"
   ]
  },
  {
   "cell_type": "code",
   "execution_count": 16,
   "id": "a3365396",
   "metadata": {},
   "outputs": [
    {
     "name": "stdout",
     "output_type": "stream",
     "text": [
      "Epoch 1/9\n",
      "250/250 [==============================] - 4s 14ms/step - loss: 1.4415 - accuracy: 0.6942 - val_loss: 1.0121 - val_accuracy: 0.7750\n",
      "Epoch 2/9\n",
      "250/250 [==============================] - 4s 14ms/step - loss: 0.7304 - accuracy: 0.8381 - val_loss: 0.8482 - val_accuracy: 0.8170\n",
      "Epoch 3/9\n",
      "250/250 [==============================] - 4s 15ms/step - loss: 0.4605 - accuracy: 0.9007 - val_loss: 0.8826 - val_accuracy: 0.8270\n",
      "Epoch 4/9\n",
      "250/250 [==============================] - 3s 14ms/step - loss: 0.3216 - accuracy: 0.9312 - val_loss: 0.9227 - val_accuracy: 0.8270\n",
      "Epoch 5/9\n",
      "250/250 [==============================] - 3s 14ms/step - loss: 0.2471 - accuracy: 0.9424 - val_loss: 1.0467 - val_accuracy: 0.8250\n",
      "Epoch 6/9\n",
      "250/250 [==============================] - 3s 13ms/step - loss: 0.2156 - accuracy: 0.9506 - val_loss: 1.0509 - val_accuracy: 0.8200\n",
      "Epoch 7/9\n",
      "250/250 [==============================] - 3s 13ms/step - loss: 0.1889 - accuracy: 0.9528 - val_loss: 1.1106 - val_accuracy: 0.8250\n",
      "Epoch 8/9\n",
      "250/250 [==============================] - 3s 13ms/step - loss: 0.1694 - accuracy: 0.9548 - val_loss: 1.2272 - val_accuracy: 0.8100\n",
      "Epoch 9/9\n",
      "250/250 [==============================] - 3s 13ms/step - loss: 0.1603 - accuracy: 0.9558 - val_loss: 1.3001 - val_accuracy: 0.8020\n",
      "71/71 [==============================] - 0s 3ms/step - loss: 1.5564 - accuracy: 0.7818\n"
     ]
    }
   ],
   "source": [
    "from keras import models, layers\n",
    "\n",
    "network = models.Sequential()\n",
    "network.add(layers.Dense(64, activation = 'relu', input_shape = (10000, )))\n",
    "network.add(layers.Dense(64, activation = 'relu'))\n",
    "network.add(layers.Dense(46, activation = 'sigmoid'))\n",
    "\n",
    "network.compile(optimizer = 'rmsprop',\n",
    "                loss = 'categorical_crossentropy',\n",
    "                metrics = ['accuracy'])\n",
    "\n",
    "network.fit(x_train, y_train, epochs = 9, validation_data = (x_val, y_val))\n",
    "results = network.evaluate(x_test, y_test)"
   ]
  },
  {
   "cell_type": "markdown",
   "id": "e5261c12",
   "metadata": {},
   "source": [
    "使用完全随机的分类器"
   ]
  },
  {
   "cell_type": "code",
   "execution_count": 31,
   "id": "c6428b03",
   "metadata": {},
   "outputs": [],
   "source": [
    "import copy\n",
    "\n",
    "test_labels_copy = copy.copy(test_labels)\n",
    "np.random.shuffle(test_labels_copy)\n",
    "hit_array = np.array(test_labels) == np.array(test_labels_copy)"
   ]
  },
  {
   "cell_type": "code",
   "execution_count": 32,
   "id": "2e261eb4",
   "metadata": {},
   "outputs": [
    {
     "data": {
      "text/plain": [
       "0.19056099732858414"
      ]
     },
     "execution_count": 32,
     "metadata": {},
     "output_type": "execute_result"
    }
   ],
   "source": [
    "float(np.sum(hit_array)) / len(test_labels)"
   ]
  },
  {
   "cell_type": "markdown",
   "id": "16bbd53e",
   "metadata": {},
   "source": [
    "10、构建查看多分类问题的classification_report"
   ]
  },
  {
   "cell_type": "code",
   "execution_count": 17,
   "id": "972f5f0f",
   "metadata": {},
   "outputs": [],
   "source": [
    "prediction = network.predict(x_test)\n",
    "prediction = [np.argmax(p) for p in prediction]"
   ]
  },
  {
   "cell_type": "code",
   "execution_count": 18,
   "id": "e35d6fd8",
   "metadata": {},
   "outputs": [
    {
     "name": "stdout",
     "output_type": "stream",
     "text": [
      "              precision    recall  f1-score   support\n",
      "\n",
      "           0       0.56      0.75      0.64        12\n",
      "           1       0.72      0.72      0.72       105\n",
      "           2       0.82      0.70      0.76        20\n",
      "           3       0.91      0.94      0.92       813\n",
      "           4       0.75      0.89      0.81       474\n",
      "           5       0.00      0.00      0.00         5\n",
      "           6       1.00      0.86      0.92        14\n",
      "           7       1.00      0.33      0.50         3\n",
      "           8       0.69      0.66      0.68        38\n",
      "           9       0.83      0.76      0.79        25\n",
      "          10       0.95      0.67      0.78        30\n",
      "          11       0.55      0.75      0.64        83\n",
      "          12       0.20      0.08      0.11        13\n",
      "          13       0.63      0.59      0.61        37\n",
      "          14       0.09      0.50      0.15         2\n",
      "          15       0.50      0.11      0.18         9\n",
      "          16       0.72      0.72      0.72        99\n",
      "          17       0.83      0.42      0.56        12\n",
      "          18       0.69      0.55      0.61        20\n",
      "          19       0.69      0.64      0.66       133\n",
      "          20       0.57      0.46      0.51        70\n",
      "          21       0.82      0.52      0.64        27\n",
      "          22       0.00      0.00      0.00         7\n",
      "          23       0.53      0.75      0.62        12\n",
      "          24       0.53      0.42      0.47        19\n",
      "          25       0.85      0.55      0.67        31\n",
      "          26       1.00      0.50      0.67         8\n",
      "          27       1.00      0.25      0.40         4\n",
      "          28       0.43      0.30      0.35        10\n",
      "          29       0.38      0.75      0.50         4\n",
      "          30       1.00      0.33      0.50        12\n",
      "          31       0.86      0.46      0.60        13\n",
      "          32       1.00      0.60      0.75        10\n",
      "          33       0.80      0.80      0.80         5\n",
      "          34       0.80      0.57      0.67         7\n",
      "          35       1.00      0.17      0.29         6\n",
      "          36       0.43      0.27      0.33        11\n",
      "          37       0.00      0.00      0.00         2\n",
      "          38       1.00      0.33      0.50         3\n",
      "          39       0.00      0.00      0.00         5\n",
      "          40       1.00      0.30      0.46        10\n",
      "          41       0.50      0.25      0.33         8\n",
      "          42       1.00      0.33      0.50         3\n",
      "          43       0.75      1.00      0.86         6\n",
      "          44       1.00      0.80      0.89         5\n",
      "          45       0.00      0.00      0.00         1\n",
      "\n",
      "    accuracy                           0.78      2246\n",
      "   macro avg       0.66      0.49      0.52      2246\n",
      "weighted avg       0.78      0.78      0.77      2246\n",
      "\n"
     ]
    },
    {
     "name": "stderr",
     "output_type": "stream",
     "text": [
      "C:\\ProgramData\\Anaconda3\\lib\\site-packages\\sklearn\\metrics\\_classification.py:1248: UndefinedMetricWarning: Precision and F-score are ill-defined and being set to 0.0 in labels with no predicted samples. Use `zero_division` parameter to control this behavior.\n",
      "  _warn_prf(average, modifier, msg_start, len(result))\n",
      "C:\\ProgramData\\Anaconda3\\lib\\site-packages\\sklearn\\metrics\\_classification.py:1248: UndefinedMetricWarning: Precision and F-score are ill-defined and being set to 0.0 in labels with no predicted samples. Use `zero_division` parameter to control this behavior.\n",
      "  _warn_prf(average, modifier, msg_start, len(result))\n",
      "C:\\ProgramData\\Anaconda3\\lib\\site-packages\\sklearn\\metrics\\_classification.py:1248: UndefinedMetricWarning: Precision and F-score are ill-defined and being set to 0.0 in labels with no predicted samples. Use `zero_division` parameter to control this behavior.\n",
      "  _warn_prf(average, modifier, msg_start, len(result))\n"
     ]
    }
   ],
   "source": [
    "from sklearn.metrics import classification_report\n",
    "\n",
    "print(classification_report(test_labels, prediction))"
   ]
  },
  {
   "cell_type": "code",
   "execution_count": 19,
   "id": "62a3cc4c",
   "metadata": {},
   "outputs": [
    {
     "ename": "AssertionError",
     "evalue": "arrays and names must have the same length",
     "output_type": "error",
     "traceback": [
      "\u001b[1;31m---------------------------------------------------------------------------\u001b[0m",
      "\u001b[1;31mAssertionError\u001b[0m                            Traceback (most recent call last)",
      "\u001b[1;32m~\\AppData\\Local\\Temp/ipykernel_8412/2799663700.py\u001b[0m in \u001b[0;36m<module>\u001b[1;34m\u001b[0m\n\u001b[0;32m      1\u001b[0m \u001b[1;32mimport\u001b[0m \u001b[0mpandas\u001b[0m \u001b[1;32mas\u001b[0m \u001b[0mpd\u001b[0m\u001b[1;33m\u001b[0m\u001b[1;33m\u001b[0m\u001b[0m\n\u001b[0;32m      2\u001b[0m \u001b[1;33m\u001b[0m\u001b[0m\n\u001b[1;32m----> 3\u001b[1;33m \u001b[0mpd\u001b[0m\u001b[1;33m.\u001b[0m\u001b[0mcrosstab\u001b[0m\u001b[1;33m(\u001b[0m\u001b[0mtest_labels\u001b[0m\u001b[1;33m,\u001b[0m \u001b[0mprediction\u001b[0m\u001b[1;33m,\u001b[0m \u001b[0mrownames\u001b[0m \u001b[1;33m=\u001b[0m \u001b[1;34m'labels'\u001b[0m\u001b[1;33m,\u001b[0m \u001b[0mcolnames\u001b[0m \u001b[1;33m=\u001b[0m \u001b[1;34m'predicts'\u001b[0m\u001b[1;33m)\u001b[0m\u001b[1;33m\u001b[0m\u001b[1;33m\u001b[0m\u001b[0m\n\u001b[0m",
      "\u001b[1;32mC:\\ProgramData\\Anaconda3\\lib\\site-packages\\pandas\\core\\reshape\\pivot.py\u001b[0m in \u001b[0;36mcrosstab\u001b[1;34m(index, columns, values, rownames, colnames, aggfunc, margins, margins_name, dropna, normalize)\u001b[0m\n\u001b[0;32m    635\u001b[0m         \u001b[0mcommon_idx\u001b[0m \u001b[1;33m=\u001b[0m \u001b[0mget_objs_combined_axis\u001b[0m\u001b[1;33m(\u001b[0m\u001b[0mpass_objs\u001b[0m\u001b[1;33m,\u001b[0m \u001b[0mintersect\u001b[0m\u001b[1;33m=\u001b[0m\u001b[1;32mTrue\u001b[0m\u001b[1;33m,\u001b[0m \u001b[0msort\u001b[0m\u001b[1;33m=\u001b[0m\u001b[1;32mFalse\u001b[0m\u001b[1;33m)\u001b[0m\u001b[1;33m\u001b[0m\u001b[1;33m\u001b[0m\u001b[0m\n\u001b[0;32m    636\u001b[0m \u001b[1;33m\u001b[0m\u001b[0m\n\u001b[1;32m--> 637\u001b[1;33m     \u001b[0mrownames\u001b[0m \u001b[1;33m=\u001b[0m \u001b[0m_get_names\u001b[0m\u001b[1;33m(\u001b[0m\u001b[0mindex\u001b[0m\u001b[1;33m,\u001b[0m \u001b[0mrownames\u001b[0m\u001b[1;33m,\u001b[0m \u001b[0mprefix\u001b[0m\u001b[1;33m=\u001b[0m\u001b[1;34m\"row\"\u001b[0m\u001b[1;33m)\u001b[0m\u001b[1;33m\u001b[0m\u001b[1;33m\u001b[0m\u001b[0m\n\u001b[0m\u001b[0;32m    638\u001b[0m     \u001b[0mcolnames\u001b[0m \u001b[1;33m=\u001b[0m \u001b[0m_get_names\u001b[0m\u001b[1;33m(\u001b[0m\u001b[0mcolumns\u001b[0m\u001b[1;33m,\u001b[0m \u001b[0mcolnames\u001b[0m\u001b[1;33m,\u001b[0m \u001b[0mprefix\u001b[0m\u001b[1;33m=\u001b[0m\u001b[1;34m\"col\"\u001b[0m\u001b[1;33m)\u001b[0m\u001b[1;33m\u001b[0m\u001b[1;33m\u001b[0m\u001b[0m\n\u001b[0;32m    639\u001b[0m \u001b[1;33m\u001b[0m\u001b[0m\n",
      "\u001b[1;32mC:\\ProgramData\\Anaconda3\\lib\\site-packages\\pandas\\core\\reshape\\pivot.py\u001b[0m in \u001b[0;36m_get_names\u001b[1;34m(arrs, names, prefix)\u001b[0m\n\u001b[0;32m    773\u001b[0m     \u001b[1;32melse\u001b[0m\u001b[1;33m:\u001b[0m\u001b[1;33m\u001b[0m\u001b[1;33m\u001b[0m\u001b[0m\n\u001b[0;32m    774\u001b[0m         \u001b[1;32mif\u001b[0m \u001b[0mlen\u001b[0m\u001b[1;33m(\u001b[0m\u001b[0mnames\u001b[0m\u001b[1;33m)\u001b[0m \u001b[1;33m!=\u001b[0m \u001b[0mlen\u001b[0m\u001b[1;33m(\u001b[0m\u001b[0marrs\u001b[0m\u001b[1;33m)\u001b[0m\u001b[1;33m:\u001b[0m\u001b[1;33m\u001b[0m\u001b[1;33m\u001b[0m\u001b[0m\n\u001b[1;32m--> 775\u001b[1;33m             \u001b[1;32mraise\u001b[0m \u001b[0mAssertionError\u001b[0m\u001b[1;33m(\u001b[0m\u001b[1;34m\"arrays and names must have the same length\"\u001b[0m\u001b[1;33m)\u001b[0m\u001b[1;33m\u001b[0m\u001b[1;33m\u001b[0m\u001b[0m\n\u001b[0m\u001b[0;32m    776\u001b[0m         \u001b[1;32mif\u001b[0m \u001b[1;32mnot\u001b[0m \u001b[0misinstance\u001b[0m\u001b[1;33m(\u001b[0m\u001b[0mnames\u001b[0m\u001b[1;33m,\u001b[0m \u001b[0mlist\u001b[0m\u001b[1;33m)\u001b[0m\u001b[1;33m:\u001b[0m\u001b[1;33m\u001b[0m\u001b[1;33m\u001b[0m\u001b[0m\n\u001b[0;32m    777\u001b[0m             \u001b[0mnames\u001b[0m \u001b[1;33m=\u001b[0m \u001b[0mlist\u001b[0m\u001b[1;33m(\u001b[0m\u001b[0mnames\u001b[0m\u001b[1;33m)\u001b[0m\u001b[1;33m\u001b[0m\u001b[1;33m\u001b[0m\u001b[0m\n",
      "\u001b[1;31mAssertionError\u001b[0m: arrays and names must have the same length"
     ]
    }
   ],
   "source": [
    "import pandas as pd\n",
    "\n",
    "pd.crosstab(test_labels, prediction, rownames = 'labels', colnames = 'predicts')"
   ]
  },
  {
   "cell_type": "code",
   "execution_count": null,
   "id": "9435a919",
   "metadata": {},
   "outputs": [],
   "source": []
  }
 ],
 "metadata": {
  "kernelspec": {
   "display_name": "Python 3",
   "language": "python",
   "name": "python3"
  },
  "language_info": {
   "codemirror_mode": {
    "name": "ipython",
    "version": 3
   },
   "file_extension": ".py",
   "mimetype": "text/x-python",
   "name": "python",
   "nbconvert_exporter": "python",
   "pygments_lexer": "ipython3",
   "version": "3.8.8"
  }
 },
 "nbformat": 4,
 "nbformat_minor": 5
}
