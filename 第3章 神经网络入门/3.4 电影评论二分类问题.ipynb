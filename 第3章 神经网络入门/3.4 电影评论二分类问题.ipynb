{
 "cells": [
  {
   "cell_type": "markdown",
   "id": "e0587595",
   "metadata": {},
   "source": [
    "## 1、加载数据集\n",
    "num_words = 10000仅保留训练数据中最常出现的10000个词"
   ]
  },
  {
   "cell_type": "code",
   "execution_count": 1,
   "id": "46b8d051",
   "metadata": {},
   "outputs": [],
   "source": [
    "from keras.datasets import imdb \n",
    "\n",
    "(train_data, train_labels), (test_data, test_labels) = imdb.load_data(num_words = 10000)"
   ]
  },
  {
   "cell_type": "markdown",
   "id": "225a0c2e",
   "metadata": {},
   "source": [
    "word_index是imdb中单词和索引对应的一个字典  \n",
    "但train_data、test_data中只有数字， \n",
    "所以需要一个将索引转换为单词的一个字典index-word"
   ]
  },
  {
   "cell_type": "code",
   "execution_count": 2,
   "id": "2e71e18f",
   "metadata": {},
   "outputs": [],
   "source": [
    "word_index = imdb.get_word_index()\n",
    "index_word = dict([(value, key) for key,value in word_index.items()])"
   ]
  },
  {
   "cell_type": "markdown",
   "id": "b9b49d3a",
   "metadata": {},
   "source": [
    "将评论进行解码  \n",
    "索引减去了3，0、1、2分别代表填充、序列开始和未知词"
   ]
  },
  {
   "cell_type": "code",
   "execution_count": 3,
   "id": "66d37e52",
   "metadata": {},
   "outputs": [],
   "source": [
    "decoded_review = ' '.join([index_word.get(i-3, '?') for i in train_data[0]])"
   ]
  },
  {
   "cell_type": "code",
   "execution_count": 4,
   "id": "338d825b",
   "metadata": {},
   "outputs": [
    {
     "name": "stdout",
     "output_type": "stream",
     "text": [
      "[1, 14, 22, 16, 43, 530, 973, 1622, 1385, 65, 458, 4468, 66, 3941, 4, 173, 36, 256, 5, 25, 100, 43, 838, 112, 50, 670, 2, 9, 35, 480, 284, 5, 150, 4, 172, 112, 167, 2, 336, 385, 39, 4, 172, 4536, 1111, 17, 546, 38, 13, 447, 4, 192, 50, 16, 6, 147, 2025, 19, 14, 22, 4, 1920, 4613, 469, 4, 22, 71, 87, 12, 16, 43, 530, 38, 76, 15, 13, 1247, 4, 22, 17, 515, 17, 12, 16, 626, 18, 2, 5, 62, 386, 12, 8, 316, 8, 106, 5, 4, 2223, 5244, 16, 480, 66, 3785, 33, 4, 130, 12, 16, 38, 619, 5, 25, 124, 51, 36, 135, 48, 25, 1415, 33, 6, 22, 12, 215, 28, 77, 52, 5, 14, 407, 16, 82, 2, 8, 4, 107, 117, 5952, 15, 256, 4, 2, 7, 3766, 5, 723, 36, 71, 43, 530, 476, 26, 400, 317, 46, 7, 4, 2, 1029, 13, 104, 88, 4, 381, 15, 297, 98, 32, 2071, 56, 26, 141, 6, 194, 7486, 18, 4, 226, 22, 21, 134, 476, 26, 480, 5, 144, 30, 5535, 18, 51, 36, 28, 224, 92, 25, 104, 4, 226, 65, 16, 38, 1334, 88, 12, 16, 283, 5, 16, 4472, 113, 103, 32, 15, 16, 5345, 19, 178, 32]\n",
      "? this film was just brilliant casting location scenery story direction everyone's really suited the part they played and you could just imagine being there robert ? is an amazing actor and now the same being director ? father came from the same scottish island as myself so i loved the fact there was a real connection with this film the witty remarks throughout the film were great it was just brilliant so much that i bought the film as soon as it was released for ? and would recommend it to everyone to watch and the fly fishing was amazing really cried at the end it was so sad and you know what they say if you cry at a film it must have been good and this definitely was also ? to the two little boy's that played the ? of norman and paul they were just brilliant children are often left out of the ? list i think because the stars that play them all grown up are such a big profile for the whole film but these children are amazing and should be praised for what they have done don't you think the whole story was so lovely because it was true and was someone's life after all that was shared with us all\n",
      "1\n"
     ]
    }
   ],
   "source": [
    "print(train_data[0])\n",
    "print(decoded_review)\n",
    "print(train_labels[0])"
   ]
  },
  {
   "cell_type": "markdown",
   "id": "a4e7d6da",
   "metadata": {},
   "source": [
    "## 2、数据预处理\n",
    "不能将整数序列直接输入神经网络，需要将列表转换为张量   \n",
    "\n",
    "### 转换的方法有两种:  \n",
    "#### (1)填充列表，使其具有相同的长度，再将列表转换成形状为(samples, word_index)的整数张量  \n",
    "#### 然后网络的第一层使用能处理这种张量的层(Embedding层)    \n",
    "\n",
    "#### (2)对列表进行one_hot编码，将其转换为0和1组成的向量  \n",
    "#### 然后网络的第一层可以使用Dense层，它能处理浮点数向量数据  "
   ]
  },
  {
   "cell_type": "markdown",
   "id": "c9a92665",
   "metadata": {},
   "source": [
    "将整数序列编码为二进制矩阵"
   ]
  },
  {
   "cell_type": "code",
   "execution_count": 5,
   "id": "ce3055c3",
   "metadata": {},
   "outputs": [],
   "source": [
    "import numpy as np\n",
    "\n",
    "def vectorize_sequences(sequences, dimension = 10000):\n",
    "    results = np.zeros((len(sequences), dimension))\n",
    "    for i, sequence in enumerate(sequences):\n",
    "        results[i, sequence] = 1\n",
    "    return results"
   ]
  },
  {
   "cell_type": "markdown",
   "id": "e4f7bf89",
   "metadata": {},
   "source": [
    "将测试数据和标签进行向量化"
   ]
  },
  {
   "cell_type": "code",
   "execution_count": 6,
   "id": "f8ed10d9",
   "metadata": {},
   "outputs": [],
   "source": [
    "train_data = vectorize_sequences(train_data)\n",
    "test_data = vectorize_sequences(test_data)\n",
    "\n",
    "train_labels = np.asarray(train_labels).astype('float32')\n",
    "test_labels = np.asarray(test_labels).astype('float32')"
   ]
  },
  {
   "cell_type": "markdown",
   "id": "4ed5cbef",
   "metadata": {},
   "source": [
    "## 3、构建网络\n",
    "构建一个只有三层的神经网络  \n",
    "第1、2层都只有16个神经元  \n",
    "第3层只有一个神经元  "
   ]
  },
  {
   "cell_type": "code",
   "execution_count": 7,
   "id": "70529eaa",
   "metadata": {},
   "outputs": [],
   "source": [
    "from keras import models, layers\n",
    "\n",
    "network = models.Sequential()\n",
    "network.add(layers.Dense(16, activation = 'relu', input_shape = (10000,)))\n",
    "network.add(layers.Dense(16, activation = 'relu'))\n",
    "network.add(layers.Dense(1, activation = 'sigmoid'))"
   ]
  },
  {
   "cell_type": "markdown",
   "id": "8bc20fce",
   "metadata": {},
   "source": [
    "查看绘制的网络模型"
   ]
  },
  {
   "cell_type": "code",
   "execution_count": 8,
   "id": "df6fc984",
   "metadata": {},
   "outputs": [
    {
     "data": {
      "image/png": "[encoded data removed]",
      "text/plain": [
       "<IPython.core.display.Image object>"
      ]
     },
     "execution_count": 8,
     "metadata": {},
     "output_type": "execute_result"
    }
   ],
   "source": [
    "from tensorflow.keras.utils import plot_model\n",
    "\n",
    "plot_model(network, show_shapes = True, to_file = '电影评论二分类.png')"
   ]
  },
  {
   "cell_type": "markdown",
   "id": "763210d2",
   "metadata": {},
   "source": [
    "## 4、网络的编译"
   ]
  },
  {
   "cell_type": "code",
   "execution_count": 9,
   "id": "87d21a56",
   "metadata": {},
   "outputs": [],
   "source": [
    "network.compile(optimizer = 'rmsprop', \n",
    "                loss = 'binary_crossentropy', \n",
    "                metrics = ['accuracy'])"
   ]
  },
  {
   "cell_type": "markdown",
   "id": "eb9eabc9",
   "metadata": {},
   "source": [
    "## 5、留出验证集\n",
    "将(25000,)的训练集划分为(15000, 1)的训练集和(10000, 1)的验证集  \n",
    "这样可以防止测试集上的数据泄露"
   ]
  },
  {
   "cell_type": "code",
   "execution_count": 10,
   "id": "df18a9cf",
   "metadata": {},
   "outputs": [],
   "source": [
    "x_train = train_data[:15000]\n",
    "y_train = train_labels[:15000]\n",
    "\n",
    "x_val = train_data[15000:]\n",
    "y_val = train_labels[15000:]"
   ]
  },
  {
   "cell_type": "markdown",
   "id": "b71731d0",
   "metadata": {},
   "source": [
    "## 6、训练模型"
   ]
  },
  {
   "cell_type": "code",
   "execution_count": 11,
   "id": "61e8f26e",
   "metadata": {},
   "outputs": [
    {
     "name": "stdout",
     "output_type": "stream",
     "text": [
      "Epoch 1/20\n",
      "469/469 [==============================] - 2s 3ms/step - loss: 0.3450 - accuracy: 0.8567 - val_loss: 0.2751 - val_accuracy: 0.8888\n",
      "Epoch 2/20\n",
      "469/469 [==============================] - 1s 2ms/step - loss: 0.2006 - accuracy: 0.9231 - val_loss: 0.3179 - val_accuracy: 0.8795\n",
      "Epoch 3/20\n",
      "469/469 [==============================] - 1s 2ms/step - loss: 0.1564 - accuracy: 0.9416 - val_loss: 0.3148 - val_accuracy: 0.8856\n",
      "Epoch 4/20\n",
      "469/469 [==============================] - 1s 2ms/step - loss: 0.1247 - accuracy: 0.9545 - val_loss: 0.3625 - val_accuracy: 0.8820\n",
      "Epoch 5/20\n",
      "469/469 [==============================] - 1s 2ms/step - loss: 0.1030 - accuracy: 0.9624 - val_loss: 0.4097 - val_accuracy: 0.8820\n",
      "Epoch 6/20\n",
      "469/469 [==============================] - 1s 2ms/step - loss: 0.0845 - accuracy: 0.9698 - val_loss: 0.4743 - val_accuracy: 0.8792\n",
      "Epoch 7/20\n",
      "469/469 [==============================] - 1s 2ms/step - loss: 0.0698 - accuracy: 0.9747 - val_loss: 0.5238 - val_accuracy: 0.8771\n",
      "Epoch 8/20\n",
      "469/469 [==============================] - 1s 2ms/step - loss: 0.0566 - accuracy: 0.9813 - val_loss: 0.5959 - val_accuracy: 0.8737\n",
      "Epoch 9/20\n",
      "469/469 [==============================] - 1s 2ms/step - loss: 0.0463 - accuracy: 0.9843 - val_loss: 0.6900 - val_accuracy: 0.8707\n",
      "Epoch 10/20\n",
      "469/469 [==============================] - 1s 2ms/step - loss: 0.0366 - accuracy: 0.9887 - val_loss: 0.7689 - val_accuracy: 0.8690\n",
      "Epoch 11/20\n",
      "469/469 [==============================] - 1s 2ms/step - loss: 0.0298 - accuracy: 0.9909 - val_loss: 0.8785 - val_accuracy: 0.8662\n",
      "Epoch 12/20\n",
      "469/469 [==============================] - 1s 2ms/step - loss: 0.0229 - accuracy: 0.9930 - val_loss: 1.0218 - val_accuracy: 0.8662\n",
      "Epoch 13/20\n",
      "469/469 [==============================] - 1s 2ms/step - loss: 0.0170 - accuracy: 0.9945 - val_loss: 1.1826 - val_accuracy: 0.8645\n",
      "Epoch 14/20\n",
      "469/469 [==============================] - 1s 2ms/step - loss: 0.0139 - accuracy: 0.9959 - val_loss: 1.3685 - val_accuracy: 0.8628\n",
      "Epoch 15/20\n",
      "469/469 [==============================] - 1s 2ms/step - loss: 0.0100 - accuracy: 0.9972 - val_loss: 1.5434 - val_accuracy: 0.8634\n",
      "Epoch 16/20\n",
      "469/469 [==============================] - 1s 2ms/step - loss: 0.0083 - accuracy: 0.9976 - val_loss: 1.7590 - val_accuracy: 0.8588\n",
      "Epoch 17/20\n",
      "469/469 [==============================] - 1s 2ms/step - loss: 0.0059 - accuracy: 0.9982 - val_loss: 1.9540 - val_accuracy: 0.8599\n",
      "Epoch 18/20\n",
      "469/469 [==============================] - 1s 2ms/step - loss: 0.0044 - accuracy: 0.9990 - val_loss: 2.0684 - val_accuracy: 0.8618\n",
      "Epoch 19/20\n",
      "469/469 [==============================] - 1s 2ms/step - loss: 0.0036 - accuracy: 0.9991 - val_loss: 2.2648 - val_accuracy: 0.8592\n",
      "Epoch 20/20\n",
      "469/469 [==============================] - 1s 2ms/step - loss: 0.0028 - accuracy: 0.9993 - val_loss: 2.6036 - val_accuracy: 0.8586\n"
     ]
    }
   ],
   "source": [
    "history = network.fit(x_train, y_train, epochs = 20, validation_data = (x_val, y_val))"
   ]
  },
  {
   "cell_type": "markdown",
   "id": "5673f4d1",
   "metadata": {},
   "source": [
    "## 7、绘制训练损失和验证损失"
   ]
  },
  {
   "cell_type": "code",
   "execution_count": 12,
   "id": "e79e3d0b",
   "metadata": {},
   "outputs": [
    {
     "data": {
      "image/png": "[encoded data removed]",
      "text/plain": [
       "<Figure size 432x288 with 1 Axes>"
      ]
     },
     "metadata": {
      "needs_background": "light"
     },
     "output_type": "display_data"
    }
   ],
   "source": [
    "import matplotlib.pyplot as plt\n",
    "\n",
    "loss = history.history['loss']\n",
    "val_loss = history.history['val_loss']\n",
    "epochs = range(1, len(loss) + 1)\n",
    "\n",
    "plt.plot(epochs, loss, 'b' ,label = \"Training Loss\")\n",
    "plt.plot(epochs, val_loss, 'orange', label =  \"Validating Loss\")\n",
    "plt.title(\"Training Loss and Validating Loss\")\n",
    "plt.xlabel(\"Epochs\")\n",
    "plt.ylabel(\"Loss\")\n",
    "plt.legend()\n",
    "\n",
    "plt.show()"
   ]
  },
  {
   "cell_type": "markdown",
   "id": "ae6ed348",
   "metadata": {},
   "source": [
    "## 8、绘制训练精度和验证精度"
   ]
  },
  {
   "cell_type": "code",
   "execution_count": 13,
   "id": "5b232dbf",
   "metadata": {},
   "outputs": [
    {
     "data": {
      "image/png": "[encoded data removed]",
      "text/plain": [
       "<Figure size 432x288 with 1 Axes>"
      ]
     },
     "metadata": {
      "needs_background": "light"
     },
     "output_type": "display_data"
    }
   ],
   "source": [
    "acc = history.history['accuracy']\n",
    "val_acc = history.history['val_accuracy']\n",
    "epochs = range(1, len(acc) + 1)\n",
    "\n",
    "plt.plot(epochs, acc, 'blue', label = 'Training Accuracy')\n",
    "plt.plot(epochs, val_acc, 'orange', label = 'Validating Accuracy')\n",
    "plt.title('Traing Accuracy and Validating Accuracy')\n",
    "plt.xlabel('Epochs')\n",
    "plt.ylabel('Accuracy')\n",
    "plt.legend()\n",
    "\n",
    "plt.show()"
   ]
  },
  {
   "cell_type": "markdown",
   "id": "2f6465eb",
   "metadata": {},
   "source": [
    "## 9、从头开始训练一个模型  "
   ]
  },
  {
   "cell_type": "code",
   "execution_count": 14,
   "id": "ff9cfa4f",
   "metadata": {},
   "outputs": [
    {
     "name": "stdout",
     "output_type": "stream",
     "text": [
      "Epoch 1/4\n",
      "30/30 [==============================] - 1s 8ms/step - loss: 0.5045 - accuracy: 0.7864\n",
      "Epoch 2/4\n",
      "30/30 [==============================] - 0s 8ms/step - loss: 0.3000 - accuracy: 0.9029\n",
      "Epoch 3/4\n",
      "30/30 [==============================] - 0s 8ms/step - loss: 0.2198 - accuracy: 0.9282\n",
      "Epoch 4/4\n",
      "30/30 [==============================] - 0s 7ms/step - loss: 0.1733 - accuracy: 0.9413\n",
      "313/313 [==============================] - 0s 717us/step - loss: 0.2728 - accuracy: 0.8922\n"
     ]
    }
   ],
   "source": [
    "from keras import models, layers\n",
    "\n",
    "network = models.Sequential()\n",
    "network.add(layers.Dense(16, activation = 'relu', input_shape = (10000, )))\n",
    "network.add(layers.Dense(16, activation = 'relu'))\n",
    "network.add(layers.Dense(1, activation = 'sigmoid'))\n",
    "\n",
    "network.compile(optimizer = 'rmsprop', \n",
    "                loss = 'binary_crossentropy',\n",
    "                metrics = ['accuracy'])\n",
    "\n",
    "network.fit(x_train, y_train, epochs = 4, batch_size = 512)\n",
    "results = network.evaluate(x_val, y_val)"
   ]
  },
  {
   "cell_type": "code",
   "execution_count": 15,
   "id": "24986e51",
   "metadata": {},
   "outputs": [
    {
     "name": "stdout",
     "output_type": "stream",
     "text": [
      "[0.2727566063404083, 0.8921999931335449]\n"
     ]
    }
   ],
   "source": [
    "print(results)"
   ]
  },
  {
   "attachments": {
    "image-2.png": {
     "image/png": "[encoded data removed]"
    }
   },
   "cell_type": "markdown",
   "id": "abb32ef2",
   "metadata": {},
   "source": [
    "# 10、构建二分类问题的混淆矩阵\n",
    "![image-2.png](attachment:image-2.png)"
   ]
  },
  {
   "cell_type": "markdown",
   "id": "f86963c5",
   "metadata": {},
   "source": [
    "(1)查看模型在数据集上的预测  \n",
    "由于从最后一层神经网络出来的概率表示是正评的概率，  \n",
    "我们在这里将>0.5的概率看做正评，否则看做负评\n",
    "将概率转换为0、1的整数之后，还要进行张量的变换"
   ]
  },
  {
   "cell_type": "code",
   "execution_count": 16,
   "id": "2517caf7",
   "metadata": {},
   "outputs": [
    {
     "name": "stdout",
     "output_type": "stream",
     "text": [
      "(25000, 1)\n",
      "25000\n",
      "(25000,)\n"
     ]
    }
   ],
   "source": [
    "import numpy as np\n",
    "\n",
    "prediction = network.predict(test_data)\n",
    "print(prediction.shape) #shape = (25000, 1)\n",
    "\n",
    "prediction = [(int) ((p[0] + 0.5)/ 1) for p in prediction]\n",
    "print(len(prediction)) #len = 25000\n",
    "\n",
    "prediction = np.asarray(prediction).astype('float32')\n",
    "print(prediction.shape)"
   ]
  },
  {
   "cell_type": "code",
   "execution_count": 20,
   "id": "26bd167c",
   "metadata": {},
   "outputs": [
    {
     "data": {
      "text/plain": [
       "array([0., 1., 1., ..., 0., 0., 0.], dtype=float32)"
      ]
     },
     "execution_count": 20,
     "metadata": {},
     "output_type": "execute_result"
    }
   ],
   "source": [
    "prediction"
   ]
  },
  {
   "cell_type": "code",
   "execution_count": 21,
   "id": "dcd87bc7",
   "metadata": {},
   "outputs": [
    {
     "data": {
      "text/plain": [
       "array([0., 1., 1., ..., 0., 0., 0.], dtype=float32)"
      ]
     },
     "execution_count": 21,
     "metadata": {},
     "output_type": "execute_result"
    }
   ],
   "source": [
    "test_labels"
   ]
  },
  {
   "cell_type": "code",
   "execution_count": 25,
   "id": "3a555992",
   "metadata": {},
   "outputs": [
    {
     "name": "stdout",
     "output_type": "stream",
     "text": [
      "(25000,) (25000,)\n"
     ]
    }
   ],
   "source": [
    "print(prediction.shape, test_labels.shape)"
   ]
  },
  {
   "cell_type": "code",
   "execution_count": 24,
   "id": "7ef9b524",
   "metadata": {},
   "outputs": [],
   "source": [
    "test_labels = np.asarray(test_labels).astype('float32')"
   ]
  },
  {
   "cell_type": "code",
   "execution_count": 29,
   "id": "95818e8c",
   "metadata": {},
   "outputs": [
    {
     "data": {
      "text/html": [
       "<div>\n",
       "<style scoped>\n",
       "    .dataframe tbody tr th:only-of-type {\n",
       "        vertical-align: middle;\n",
       "    }\n",
       "\n",
       "    .dataframe tbody tr th {\n",
       "        vertical-align: top;\n",
       "    }\n",
       "\n",
       "    .dataframe thead th {\n",
       "        text-align: right;\n",
       "    }\n",
       "</style>\n",
       "<table border=\"1\" class=\"dataframe\">\n",
       "  <thead>\n",
       "    <tr style=\"text-align: right;\">\n",
       "      <th>predictions</th>\n",
       "      <th>0.0</th>\n",
       "      <th>1.0</th>\n",
       "    </tr>\n",
       "    <tr>\n",
       "      <th>labels</th>\n",
       "      <th></th>\n",
       "      <th></th>\n",
       "    </tr>\n",
       "  </thead>\n",
       "  <tbody>\n",
       "    <tr>\n",
       "      <th>0.0</th>\n",
       "      <td>10987</td>\n",
       "      <td>1513</td>\n",
       "    </tr>\n",
       "    <tr>\n",
       "      <th>1.0</th>\n",
       "      <td>1404</td>\n",
       "      <td>11096</td>\n",
       "    </tr>\n",
       "  </tbody>\n",
       "</table>\n",
       "</div>"
      ],
      "text/plain": [
       "predictions    0.0    1.0\n",
       "labels                   \n",
       "0.0          10987   1513\n",
       "1.0           1404  11096"
      ]
     },
     "execution_count": 29,
     "metadata": {},
     "output_type": "execute_result"
    }
   ],
   "source": [
    "import pandas as pd\n",
    "\n",
    "pd.crosstab(test_labels, prediction, rownames = ['labels'], colnames = ['predictions'])"
   ]
  },
  {
   "cell_type": "code",
   "execution_count": 27,
   "id": "904f56e1",
   "metadata": {},
   "outputs": [],
   "source": [
    "?pd.crosstab"
   ]
  },
  {
   "cell_type": "markdown",
   "id": "994c1c7c",
   "metadata": {},
   "source": [
    "利用sklearn中的classification_report来查看对应的准确率、召回率、F1-score"
   ]
  },
  {
   "cell_type": "code",
   "execution_count": null,
   "id": "a57ffc58",
   "metadata": {},
   "outputs": [],
   "source": [
    "from sklearn.metrics import classification_report\n",
    "\n",
    "print(classification_report(test_labels, prediction))"
   ]
  }
 ],
 "metadata": {
  "kernelspec": {
   "display_name": "Python 3",
   "language": "python",
   "name": "python3"
  },
  "language_info": {
   "codemirror_mode": {
    "name": "ipython",
    "version": 3
   },
   "file_extension": ".py",
   "mimetype": "text/x-python",
   "name": "python",
   "nbconvert_exporter": "python",
   "pygments_lexer": "ipython3",
   "version": "3.8.8"
  }
 },
 "nbformat": 4,
 "nbformat_minor": 5
}
